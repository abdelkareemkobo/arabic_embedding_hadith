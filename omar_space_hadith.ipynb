{
 "cells": [
  {
   "cell_type": "code",
   "execution_count": 1,
   "metadata": {},
   "outputs": [],
   "source": [
    "from datasets import load_dataset\n",
    "from qdrant_client import models,QdrantClient\n",
    "\n",
    "ds = load_dataset(\"arbml/Hadith\")\n"
   ]
  },
  {
   "cell_type": "code",
   "execution_count": 2,
   "metadata": {},
   "outputs": [
    {
     "data": {
      "text/plain": [
       "{'Text': 'أخبرنا قتيبة بن سعيد قال حدثنا سفيان عن الزهري عن أبي سلمة عن أبي هريرة أن النبي صلى الله عليه وسلم قال إذا استيقظ أحدكم من نومه فلا يغمس يده في وضوئه حتى يغسلها ثلاثا فإن أحدكم لا يدري أين باتت يده.'}"
      ]
     },
     "execution_count": 2,
     "metadata": {},
     "output_type": "execute_result"
    }
   ],
   "source": [
    "ds['train'][0]"
   ]
  },
  {
   "cell_type": "code",
   "execution_count": 3,
   "metadata": {},
   "outputs": [
    {
     "data": {
      "text/plain": [
       "{'Text': 'أخبرنا قتيبة بن سعيد قال حدثنا سفيان عن الزهري عن أبي سلمة عن أبي هريرة أن النبي صلى الله عليه وسلم قال إذا استيقظ أحدكم من نومه فلا يغمس يده في وضوئه حتى يغسلها ثلاثا فإن أحدكم لا يدري أين باتت يده.'}"
      ]
     },
     "execution_count": 3,
     "metadata": {},
     "output_type": "execute_result"
    }
   ],
   "source": [
    "documents = ds['train']\n",
    "documents[0]"
   ]
  },
  {
   "cell_type": "code",
   "execution_count": 4,
   "metadata": {},
   "outputs": [
    {
     "data": {
      "text/plain": [
       "Dataset({\n",
       "    features: ['Text'],\n",
       "    num_rows: 124338\n",
       "})"
      ]
     },
     "execution_count": 4,
     "metadata": {},
     "output_type": "execute_result"
    }
   ],
   "source": [
    "documents"
   ]
  },
  {
   "cell_type": "code",
   "execution_count": 5,
   "metadata": {},
   "outputs": [],
   "source": [
    "client = QdrantClient(\":memory:\")"
   ]
  },
  {
   "cell_type": "code",
   "execution_count": 7,
   "metadata": {},
   "outputs": [
    {
     "data": {
      "application/vnd.jupyter.widget-view+json": {
       "model_id": "a5154036a6f448199af187b6f5977b7f",
       "version_major": 2,
       "version_minor": 0
      },
      "text/plain": [
       "config.json:   0%|          | 0.00/570 [00:00<?, ?B/s]"
      ]
     },
     "metadata": {},
     "output_type": "display_data"
    },
    {
     "ename": "ValueError",
     "evalue": "The state dictionary of the model you are trying to load is corrupted. Are you sure it was properly saved?",
     "output_type": "error",
     "traceback": [
      "\u001b[0;31m---------------------------------------------------------------------------\u001b[0m",
      "\u001b[0;31mValueError\u001b[0m                                Traceback (most recent call last)",
      "Cell \u001b[0;32mIn[7], line 3\u001b[0m\n\u001b[1;32m      1\u001b[0m \u001b[38;5;28;01mfrom\u001b[39;00m \u001b[38;5;21;01mragatouille\u001b[39;00m \u001b[38;5;28;01mimport\u001b[39;00m RAGPretrainedModel\n\u001b[0;32m----> 3\u001b[0m RAG \u001b[38;5;241m=\u001b[39m \u001b[43mRAGPretrainedModel\u001b[49m\u001b[38;5;241;43m.\u001b[39;49m\u001b[43mfrom_pretrained\u001b[49m\u001b[43m(\u001b[49m\u001b[38;5;124;43m\"\u001b[39;49m\u001b[38;5;124;43mjinaai/jina-colbert-v2\u001b[39;49m\u001b[38;5;124;43m\"\u001b[39;49m\u001b[43m)\u001b[49m\n\u001b[1;32m      6\u001b[0m RAG\u001b[38;5;241m.\u001b[39mindex(documents[\u001b[38;5;124m'\u001b[39m\u001b[38;5;124mText\u001b[39m\u001b[38;5;124m'\u001b[39m], index_name\u001b[38;5;241m=\u001b[39m\u001b[38;5;124m\"\u001b[39m\u001b[38;5;124mdemo\u001b[39m\u001b[38;5;124m\"\u001b[39m)\n",
      "File \u001b[0;32m~/miniforge3/envs/kobo/lib/python3.11/site-packages/ragatouille/RAGPretrainedModel.py:71\u001b[0m, in \u001b[0;36mRAGPretrainedModel.from_pretrained\u001b[0;34m(cls, pretrained_model_name_or_path, n_gpu, verbose, index_root)\u001b[0m\n\u001b[1;32m     59\u001b[0m \u001b[38;5;250m\u001b[39m\u001b[38;5;124;03m\"\"\"Load a ColBERT model from a pre-trained checkpoint.\u001b[39;00m\n\u001b[1;32m     60\u001b[0m \n\u001b[1;32m     61\u001b[0m \u001b[38;5;124;03mParameters:\u001b[39;00m\n\u001b[0;32m   (...)\u001b[0m\n\u001b[1;32m     68\u001b[0m \u001b[38;5;124;03m    cls (RAGPretrainedModel): The current instance of RAGPretrainedModel, with the model initialised.\u001b[39;00m\n\u001b[1;32m     69\u001b[0m \u001b[38;5;124;03m\"\"\"\u001b[39;00m\n\u001b[1;32m     70\u001b[0m instance \u001b[38;5;241m=\u001b[39m \u001b[38;5;28mcls\u001b[39m()\n\u001b[0;32m---> 71\u001b[0m instance\u001b[38;5;241m.\u001b[39mmodel \u001b[38;5;241m=\u001b[39m \u001b[43mColBERT\u001b[49m\u001b[43m(\u001b[49m\n\u001b[1;32m     72\u001b[0m \u001b[43m    \u001b[49m\u001b[43mpretrained_model_name_or_path\u001b[49m\u001b[43m,\u001b[49m\u001b[43m \u001b[49m\u001b[43mn_gpu\u001b[49m\u001b[43m,\u001b[49m\u001b[43m \u001b[49m\u001b[43mindex_root\u001b[49m\u001b[38;5;241;43m=\u001b[39;49m\u001b[43mindex_root\u001b[49m\u001b[43m,\u001b[49m\u001b[43m \u001b[49m\u001b[43mverbose\u001b[49m\u001b[38;5;241;43m=\u001b[39;49m\u001b[43mverbose\u001b[49m\n\u001b[1;32m     73\u001b[0m \u001b[43m\u001b[49m\u001b[43m)\u001b[49m\n\u001b[1;32m     74\u001b[0m \u001b[38;5;28;01mreturn\u001b[39;00m instance\n",
      "File \u001b[0;32m~/miniforge3/envs/kobo/lib/python3.11/site-packages/ragatouille/models/colbert.py:84\u001b[0m, in \u001b[0;36mColBERT.__init__\u001b[0;34m(self, pretrained_model_name_or_path, n_gpu, index_name, verbose, load_from_index, training_mode, index_root, **kwargs)\u001b[0m\n\u001b[1;32m     81\u001b[0m     \u001b[38;5;28mself\u001b[39m\u001b[38;5;241m.\u001b[39mconfig\u001b[38;5;241m.\u001b[39mroot \u001b[38;5;241m=\u001b[39m \u001b[38;5;28mself\u001b[39m\u001b[38;5;241m.\u001b[39mindex_root\n\u001b[1;32m     83\u001b[0m \u001b[38;5;28;01mif\u001b[39;00m \u001b[38;5;129;01mnot\u001b[39;00m training_mode:\n\u001b[0;32m---> 84\u001b[0m     \u001b[38;5;28mself\u001b[39m\u001b[38;5;241m.\u001b[39minference_ckpt \u001b[38;5;241m=\u001b[39m \u001b[43mCheckpoint\u001b[49m\u001b[43m(\u001b[49m\n\u001b[1;32m     85\u001b[0m \u001b[43m        \u001b[49m\u001b[38;5;28;43mself\u001b[39;49m\u001b[38;5;241;43m.\u001b[39;49m\u001b[43mcheckpoint\u001b[49m\u001b[43m,\u001b[49m\u001b[43m \u001b[49m\u001b[43mcolbert_config\u001b[49m\u001b[38;5;241;43m=\u001b[39;49m\u001b[38;5;28;43mself\u001b[39;49m\u001b[38;5;241;43m.\u001b[39;49m\u001b[43mconfig\u001b[49m\n\u001b[1;32m     86\u001b[0m \u001b[43m    \u001b[49m\u001b[43m)\u001b[49m\n\u001b[1;32m     87\u001b[0m     \u001b[38;5;28mself\u001b[39m\u001b[38;5;241m.\u001b[39mbase_model_max_tokens \u001b[38;5;241m=\u001b[39m (\n\u001b[1;32m     88\u001b[0m         \u001b[38;5;28mself\u001b[39m\u001b[38;5;241m.\u001b[39minference_ckpt\u001b[38;5;241m.\u001b[39mbert\u001b[38;5;241m.\u001b[39mconfig\u001b[38;5;241m.\u001b[39mmax_position_embeddings\n\u001b[1;32m     89\u001b[0m     ) \u001b[38;5;241m-\u001b[39m \u001b[38;5;241m4\u001b[39m\n\u001b[1;32m     91\u001b[0m \u001b[38;5;28mself\u001b[39m\u001b[38;5;241m.\u001b[39mrun_context \u001b[38;5;241m=\u001b[39m Run()\u001b[38;5;241m.\u001b[39mcontext(\u001b[38;5;28mself\u001b[39m\u001b[38;5;241m.\u001b[39mrun_config)\n",
      "File \u001b[0;32m~/miniforge3/envs/kobo/lib/python3.11/site-packages/colbert/modeling/checkpoint.py:19\u001b[0m, in \u001b[0;36mCheckpoint.__init__\u001b[0;34m(self, name, colbert_config, verbose)\u001b[0m\n\u001b[1;32m     18\u001b[0m \u001b[38;5;28;01mdef\u001b[39;00m \u001b[38;5;21m__init__\u001b[39m(\u001b[38;5;28mself\u001b[39m, name, colbert_config\u001b[38;5;241m=\u001b[39m\u001b[38;5;28;01mNone\u001b[39;00m, verbose:\u001b[38;5;28mint\u001b[39m \u001b[38;5;241m=\u001b[39m \u001b[38;5;241m3\u001b[39m):\n\u001b[0;32m---> 19\u001b[0m     \u001b[38;5;28;43msuper\u001b[39;49m\u001b[43m(\u001b[49m\u001b[43m)\u001b[49m\u001b[38;5;241;43m.\u001b[39;49m\u001b[38;5;21;43m__init__\u001b[39;49m\u001b[43m(\u001b[49m\u001b[43mname\u001b[49m\u001b[43m,\u001b[49m\u001b[43m \u001b[49m\u001b[43mcolbert_config\u001b[49m\u001b[43m)\u001b[49m\n\u001b[1;32m     20\u001b[0m     \u001b[38;5;28;01massert\u001b[39;00m \u001b[38;5;28mself\u001b[39m\u001b[38;5;241m.\u001b[39mtraining \u001b[38;5;129;01mis\u001b[39;00m \u001b[38;5;28;01mFalse\u001b[39;00m\n\u001b[1;32m     22\u001b[0m     \u001b[38;5;28mself\u001b[39m\u001b[38;5;241m.\u001b[39mverbose \u001b[38;5;241m=\u001b[39m verbose\n",
      "File \u001b[0;32m~/miniforge3/envs/kobo/lib/python3.11/site-packages/colbert/modeling/colbert.py:21\u001b[0m, in \u001b[0;36mColBERT.__init__\u001b[0;34m(self, name, colbert_config)\u001b[0m\n\u001b[1;32m     20\u001b[0m \u001b[38;5;28;01mdef\u001b[39;00m \u001b[38;5;21m__init__\u001b[39m(\u001b[38;5;28mself\u001b[39m, name\u001b[38;5;241m=\u001b[39m\u001b[38;5;124m'\u001b[39m\u001b[38;5;124mbert-base-uncased\u001b[39m\u001b[38;5;124m'\u001b[39m, colbert_config\u001b[38;5;241m=\u001b[39m\u001b[38;5;28;01mNone\u001b[39;00m):\n\u001b[0;32m---> 21\u001b[0m     \u001b[38;5;28;43msuper\u001b[39;49m\u001b[43m(\u001b[49m\u001b[43m)\u001b[49m\u001b[38;5;241;43m.\u001b[39;49m\u001b[38;5;21;43m__init__\u001b[39;49m\u001b[43m(\u001b[49m\u001b[43mname\u001b[49m\u001b[43m,\u001b[49m\u001b[43m \u001b[49m\u001b[43mcolbert_config\u001b[49m\u001b[43m)\u001b[49m\n\u001b[1;32m     22\u001b[0m     \u001b[38;5;28mself\u001b[39m\u001b[38;5;241m.\u001b[39muse_gpu \u001b[38;5;241m=\u001b[39m colbert_config\u001b[38;5;241m.\u001b[39mtotal_visible_gpus \u001b[38;5;241m>\u001b[39m \u001b[38;5;241m0\u001b[39m\n\u001b[1;32m     24\u001b[0m     ColBERT\u001b[38;5;241m.\u001b[39mtry_load_torch_extensions(\u001b[38;5;28mself\u001b[39m\u001b[38;5;241m.\u001b[39muse_gpu)\n",
      "File \u001b[0;32m~/miniforge3/envs/kobo/lib/python3.11/site-packages/colbert/modeling/base_colbert.py:36\u001b[0m, in \u001b[0;36mBaseColBERT.__init__\u001b[0;34m(self, name_or_path, colbert_config)\u001b[0m\n\u001b[1;32m     31\u001b[0m     HF_ColBERT \u001b[38;5;241m=\u001b[39m class_factory(\u001b[38;5;28mself\u001b[39m\u001b[38;5;241m.\u001b[39mname)\n\u001b[1;32m     33\u001b[0m \u001b[38;5;66;03m# assert self.name is not None\u001b[39;00m\n\u001b[1;32m     34\u001b[0m \u001b[38;5;66;03m# HF_ColBERT = class_factory(self.name)\u001b[39;00m\n\u001b[0;32m---> 36\u001b[0m \u001b[38;5;28mself\u001b[39m\u001b[38;5;241m.\u001b[39mmodel \u001b[38;5;241m=\u001b[39m \u001b[43mHF_ColBERT\u001b[49m\u001b[38;5;241;43m.\u001b[39;49m\u001b[43mfrom_pretrained\u001b[49m\u001b[43m(\u001b[49m\u001b[43mname_or_path\u001b[49m\u001b[43m,\u001b[49m\u001b[43m \u001b[49m\u001b[43mcolbert_config\u001b[49m\u001b[38;5;241;43m=\u001b[39;49m\u001b[38;5;28;43mself\u001b[39;49m\u001b[38;5;241;43m.\u001b[39;49m\u001b[43mcolbert_config\u001b[49m\u001b[43m)\u001b[49m\n\u001b[1;32m     37\u001b[0m \u001b[38;5;28mself\u001b[39m\u001b[38;5;241m.\u001b[39mmodel\u001b[38;5;241m.\u001b[39mto(DEVICE)\n\u001b[1;32m     38\u001b[0m \u001b[38;5;28mself\u001b[39m\u001b[38;5;241m.\u001b[39mraw_tokenizer \u001b[38;5;241m=\u001b[39m AutoTokenizer\u001b[38;5;241m.\u001b[39mfrom_pretrained(name_or_path)\n",
      "File \u001b[0;32m~/miniforge3/envs/kobo/lib/python3.11/site-packages/colbert/modeling/hf_colbert.py:133\u001b[0m, in \u001b[0;36mclass_factory.<locals>.HF_ColBERT.from_pretrained\u001b[0;34m(cls, name_or_path, colbert_config)\u001b[0m\n\u001b[1;32m    129\u001b[0m     obj\u001b[38;5;241m.\u001b[39mbase \u001b[38;5;241m=\u001b[39m base\n\u001b[1;32m    131\u001b[0m     \u001b[38;5;28;01mreturn\u001b[39;00m obj\n\u001b[0;32m--> 133\u001b[0m obj \u001b[38;5;241m=\u001b[39m \u001b[38;5;28;43msuper\u001b[39;49m\u001b[43m(\u001b[49m\u001b[43m)\u001b[49m\u001b[38;5;241;43m.\u001b[39;49m\u001b[43mfrom_pretrained\u001b[49m\u001b[43m(\u001b[49m\u001b[43mname_or_path\u001b[49m\u001b[43m,\u001b[49m\u001b[43m \u001b[49m\u001b[43mcolbert_config\u001b[49m\u001b[38;5;241;43m=\u001b[39;49m\u001b[43mcolbert_config\u001b[49m\u001b[43m)\u001b[49m\n\u001b[1;32m    134\u001b[0m obj\u001b[38;5;241m.\u001b[39mbase \u001b[38;5;241m=\u001b[39m name_or_path\n\u001b[1;32m    136\u001b[0m \u001b[38;5;28;01mreturn\u001b[39;00m obj\n",
      "File \u001b[0;32m~/miniforge3/envs/kobo/lib/python3.11/site-packages/transformers/modeling_utils.py:4014\u001b[0m, in \u001b[0;36mPreTrainedModel.from_pretrained\u001b[0;34m(cls, pretrained_model_name_or_path, config, cache_dir, ignore_mismatched_sizes, force_download, local_files_only, token, revision, use_safetensors, *model_args, **kwargs)\u001b[0m\n\u001b[1;32m   4004\u001b[0m     \u001b[38;5;28;01mif\u001b[39;00m dtype_orig \u001b[38;5;129;01mis\u001b[39;00m \u001b[38;5;129;01mnot\u001b[39;00m \u001b[38;5;28;01mNone\u001b[39;00m:\n\u001b[1;32m   4005\u001b[0m         torch\u001b[38;5;241m.\u001b[39mset_default_dtype(dtype_orig)\n\u001b[1;32m   4007\u001b[0m     (\n\u001b[1;32m   4008\u001b[0m         model,\n\u001b[1;32m   4009\u001b[0m         missing_keys,\n\u001b[1;32m   4010\u001b[0m         unexpected_keys,\n\u001b[1;32m   4011\u001b[0m         mismatched_keys,\n\u001b[1;32m   4012\u001b[0m         offload_index,\n\u001b[1;32m   4013\u001b[0m         error_msgs,\n\u001b[0;32m-> 4014\u001b[0m     ) \u001b[38;5;241m=\u001b[39m \u001b[38;5;28;43mcls\u001b[39;49m\u001b[38;5;241;43m.\u001b[39;49m\u001b[43m_load_pretrained_model\u001b[49m\u001b[43m(\u001b[49m\n\u001b[1;32m   4015\u001b[0m \u001b[43m        \u001b[49m\u001b[43mmodel\u001b[49m\u001b[43m,\u001b[49m\n\u001b[1;32m   4016\u001b[0m \u001b[43m        \u001b[49m\u001b[43mstate_dict\u001b[49m\u001b[43m,\u001b[49m\n\u001b[1;32m   4017\u001b[0m \u001b[43m        \u001b[49m\u001b[43mloaded_state_dict_keys\u001b[49m\u001b[43m,\u001b[49m\u001b[43m  \u001b[49m\u001b[38;5;66;43;03m# XXX: rename?\u001b[39;49;00m\n\u001b[1;32m   4018\u001b[0m \u001b[43m        \u001b[49m\u001b[43mresolved_archive_file\u001b[49m\u001b[43m,\u001b[49m\n\u001b[1;32m   4019\u001b[0m \u001b[43m        \u001b[49m\u001b[43mpretrained_model_name_or_path\u001b[49m\u001b[43m,\u001b[49m\n\u001b[1;32m   4020\u001b[0m \u001b[43m        \u001b[49m\u001b[43mignore_mismatched_sizes\u001b[49m\u001b[38;5;241;43m=\u001b[39;49m\u001b[43mignore_mismatched_sizes\u001b[49m\u001b[43m,\u001b[49m\n\u001b[1;32m   4021\u001b[0m \u001b[43m        \u001b[49m\u001b[43msharded_metadata\u001b[49m\u001b[38;5;241;43m=\u001b[39;49m\u001b[43msharded_metadata\u001b[49m\u001b[43m,\u001b[49m\n\u001b[1;32m   4022\u001b[0m \u001b[43m        \u001b[49m\u001b[43m_fast_init\u001b[49m\u001b[38;5;241;43m=\u001b[39;49m\u001b[43m_fast_init\u001b[49m\u001b[43m,\u001b[49m\n\u001b[1;32m   4023\u001b[0m \u001b[43m        \u001b[49m\u001b[43mlow_cpu_mem_usage\u001b[49m\u001b[38;5;241;43m=\u001b[39;49m\u001b[43mlow_cpu_mem_usage\u001b[49m\u001b[43m,\u001b[49m\n\u001b[1;32m   4024\u001b[0m \u001b[43m        \u001b[49m\u001b[43mdevice_map\u001b[49m\u001b[38;5;241;43m=\u001b[39;49m\u001b[43mdevice_map\u001b[49m\u001b[43m,\u001b[49m\n\u001b[1;32m   4025\u001b[0m \u001b[43m        \u001b[49m\u001b[43moffload_folder\u001b[49m\u001b[38;5;241;43m=\u001b[39;49m\u001b[43moffload_folder\u001b[49m\u001b[43m,\u001b[49m\n\u001b[1;32m   4026\u001b[0m \u001b[43m        \u001b[49m\u001b[43moffload_state_dict\u001b[49m\u001b[38;5;241;43m=\u001b[39;49m\u001b[43moffload_state_dict\u001b[49m\u001b[43m,\u001b[49m\n\u001b[1;32m   4027\u001b[0m \u001b[43m        \u001b[49m\u001b[43mdtype\u001b[49m\u001b[38;5;241;43m=\u001b[39;49m\u001b[43mtorch_dtype\u001b[49m\u001b[43m,\u001b[49m\n\u001b[1;32m   4028\u001b[0m \u001b[43m        \u001b[49m\u001b[43mhf_quantizer\u001b[49m\u001b[38;5;241;43m=\u001b[39;49m\u001b[43mhf_quantizer\u001b[49m\u001b[43m,\u001b[49m\n\u001b[1;32m   4029\u001b[0m \u001b[43m        \u001b[49m\u001b[43mkeep_in_fp32_modules\u001b[49m\u001b[38;5;241;43m=\u001b[39;49m\u001b[43mkeep_in_fp32_modules\u001b[49m\u001b[43m,\u001b[49m\n\u001b[1;32m   4030\u001b[0m \u001b[43m        \u001b[49m\u001b[43mgguf_path\u001b[49m\u001b[38;5;241;43m=\u001b[39;49m\u001b[43mgguf_path\u001b[49m\u001b[43m,\u001b[49m\n\u001b[1;32m   4031\u001b[0m \u001b[43m    \u001b[49m\u001b[43m)\u001b[49m\n\u001b[1;32m   4033\u001b[0m \u001b[38;5;66;03m# make sure token embedding weights are still tied if needed\u001b[39;00m\n\u001b[1;32m   4034\u001b[0m model\u001b[38;5;241m.\u001b[39mtie_weights()\n",
      "File \u001b[0;32m~/miniforge3/envs/kobo/lib/python3.11/site-packages/transformers/modeling_utils.py:4342\u001b[0m, in \u001b[0;36mPreTrainedModel._load_pretrained_model\u001b[0;34m(cls, model, state_dict, loaded_keys, resolved_archive_file, pretrained_model_name_or_path, ignore_mismatched_sizes, sharded_metadata, _fast_init, low_cpu_mem_usage, device_map, offload_folder, offload_state_dict, dtype, hf_quantizer, keep_in_fp32_modules, gguf_path)\u001b[0m\n\u001b[1;32m   4340\u001b[0m base_model_expected_keys \u001b[38;5;241m=\u001b[39m \u001b[38;5;28mlist\u001b[39m(model_to_load\u001b[38;5;241m.\u001b[39mstate_dict()\u001b[38;5;241m.\u001b[39mkeys())\n\u001b[1;32m   4341\u001b[0m \u001b[38;5;28;01mif\u001b[39;00m \u001b[38;5;28many\u001b[39m(key \u001b[38;5;129;01min\u001b[39;00m expected_keys_not_prefixed \u001b[38;5;129;01mand\u001b[39;00m key \u001b[38;5;129;01mnot\u001b[39;00m \u001b[38;5;129;01min\u001b[39;00m base_model_expected_keys \u001b[38;5;28;01mfor\u001b[39;00m key \u001b[38;5;129;01min\u001b[39;00m loaded_keys):\n\u001b[0;32m-> 4342\u001b[0m     \u001b[38;5;28;01mraise\u001b[39;00m \u001b[38;5;167;01mValueError\u001b[39;00m(\n\u001b[1;32m   4343\u001b[0m         \u001b[38;5;124m\"\u001b[39m\u001b[38;5;124mThe state dictionary of the model you are trying to load is corrupted. Are you sure it was \u001b[39m\u001b[38;5;124m\"\u001b[39m\n\u001b[1;32m   4344\u001b[0m         \u001b[38;5;124m\"\u001b[39m\u001b[38;5;124mproperly saved?\u001b[39m\u001b[38;5;124m\"\u001b[39m\n\u001b[1;32m   4345\u001b[0m     )\n\u001b[1;32m   4346\u001b[0m \u001b[38;5;28;01mif\u001b[39;00m device_map \u001b[38;5;129;01mis\u001b[39;00m \u001b[38;5;129;01mnot\u001b[39;00m \u001b[38;5;28;01mNone\u001b[39;00m:\n\u001b[1;32m   4347\u001b[0m     device_map \u001b[38;5;241m=\u001b[39m {k\u001b[38;5;241m.\u001b[39mreplace(\u001b[38;5;124mf\u001b[39m\u001b[38;5;124m\"\u001b[39m\u001b[38;5;132;01m{\u001b[39;00m\u001b[38;5;28mcls\u001b[39m\u001b[38;5;241m.\u001b[39mbase_model_prefix\u001b[38;5;132;01m}\u001b[39;00m\u001b[38;5;124m.\u001b[39m\u001b[38;5;124m\"\u001b[39m, \u001b[38;5;124m\"\u001b[39m\u001b[38;5;124m\"\u001b[39m): v \u001b[38;5;28;01mfor\u001b[39;00m k, v \u001b[38;5;129;01min\u001b[39;00m device_map\u001b[38;5;241m.\u001b[39mitems()}\n",
      "\u001b[0;31mValueError\u001b[0m: The state dictionary of the model you are trying to load is corrupted. Are you sure it was properly saved?"
     ]
    }
   ],
   "source": [
    "from ragatouille import RAGPretrainedModel\n",
    "\n",
    "RAG = RAGPretrainedModel.from_pretrained(\"jinaai/jina-colbert-v2\")\n",
    "\n",
    "\n",
    "RAG.index(documents['Text'], index_name=\"demo\")"
   ]
  },
  {
   "cell_type": "code",
   "execution_count": null,
   "metadata": {},
   "outputs": [],
   "source": [
    "\n",
    "query = \"What does ColBERT do?\"\n",
    "results = RAG.search(query)"
   ]
  },
  {
   "cell_type": "code",
   "execution_count": null,
   "metadata": {},
   "outputs": [],
   "source": [
    "from sentence_transformers import SentenceTransformer\n",
    "\n",
    "model = SentenceTransformer(\n",
    "    \"Omartificial-Intelligence-Space/Arabic-Triplet-Matryoshka-V2\", device=\"cuda\"\n",
    ")\n",
    "\n",
    "sentences = [\n",
    "    \"ذكر متوازن بعناية يقف على قدم واحدة بالقرب من منطقة شاطئ المحيط النظيفة\",\n",
    "    \"رجل يقدم عرضاً\",\n",
    "    \"هناك رجل بالخارج قرب الشاطئ\",\n",
    "    \"رجل يجلس على أريكه\",\n",
    "]\n",
    "embeddings = model.encode(sentences)\n",
    "\n",
    "\n",
    "# [4, 4]"
   ]
  },
  {
   "cell_type": "code",
   "execution_count": null,
   "metadata": {},
   "outputs": [
    {
     "data": {
      "text/plain": [
       "True"
      ]
     },
     "execution_count": 8,
     "metadata": {},
     "output_type": "execute_result"
    }
   ],
   "source": [
    "client.create_collection(\n",
    "    collection_name=\"hadith\",\n",
    "    vectors_config=models.VectorParams(\n",
    "        size=model.get_sentence_embedding_dimension(),\n",
    "        distance=models.Distance.COSINE,\n",
    "        )\n",
    "    )\n"
   ]
  },
  {
   "cell_type": "code",
   "execution_count": null,
   "metadata": {},
   "outputs": [],
   "source": [
    "client.upload_points(\n",
    "    collection_name=\"hadith\",\n",
    "    points=[\n",
    "        models.PointStruct(\n",
    "            id=idx, vector=model.encode(doc[\"Text\"]).tolist(), payload=doc\n",
    "        )\n",
    "        for idx, doc in enumerate(documents)\n",
    "    ],\n",
    ")"
   ]
  },
  {
   "cell_type": "code",
   "execution_count": null,
   "metadata": {},
   "outputs": [],
   "source": [
    "f_1 = \"حديث جبريل الطويل عن الاسلام\"\n",
    "f_2 = \"هل يجوز زيارة القبور؟\"\n",
    "f_3 = \"أحاديث عن الصدقة\"\n",
    "f_4 = \"هل يوجب المذي الغسل؟\"\n",
    "f_5 = \"ماهي صفات المسلم؟\""
   ]
  },
  {
   "cell_type": "code",
   "execution_count": null,
   "metadata": {},
   "outputs": [],
   "source": [
    "h_1_t = \"من ترك صلاة مكتوبة متعمدا برئت منه ذمة الله\"  # 40165\n",
    "h_2_t = \"من سن في الإسلام سنة حسنة\"  # 37492\n",
    "h_3_t = \"الراحمون يرحمهم الرحمن\"  # 25311\n",
    "h_4_t = \"مثل المؤنين في توادهم وتراحمهم كمثل الجسد الواحد\"  # 36753\n",
    "h_5_t = \"ألا إن في الجسد مضغة إذا صلحت صلح الجسد كله\"  # 81731\n",
    "h_6_t = \"إن العبد ليتكلم بالكلمة من سخط الله\"  # 27672\n",
    "h_7_t = \"من تشبه بقوم فهو منهم\"  # 23973\n",
    "h_8_t = \"اجتنبوا أم الخبائث\"  # 5573\n",
    "h_9_t = \"ليس المؤمن باللعان و لا الطعان ولا الفاحش\"  # 22751\n",
    "h_10_t = \"فضل العالم علي العابد كفضل القمر\"  # 39828"
   ]
  },
  {
   "cell_type": "code",
   "execution_count": null,
   "metadata": {},
   "outputs": [],
   "source": [
    "h_1 = \"العهد الذي  بيننا وبينهم الصلاة فمن تركها فقد كفر\"  # 78826\n",
    "h_2 = \"من دعا الي الهدي كان له من الأجور مثل أجور متبعه\"  # 27900\n",
    "h_3 = \"من لا يرحم الناس لا يرحمه الله\"  # 30040\n",
    "h_4 = \"المؤمن للمؤمن كالبنيان يشد بعضه بعضا\"  # 37904\n",
    "h_5 = \"إن الله لا ينظر الي صوركم و لكن ينظرالي قلوبكم\"  # 29642\n",
    "h_6 = \"من كان يؤمن بالله واليوم الأخر فليقل خيرا أو ليصمت\"  # 25437\n",
    "h_7 = \"يحشر المرء مع من يحب\"  #\n",
    "h_8 = \"لعن الله الخمر وشاربه وساقيها\"  # 24563\n",
    "h_9 = \"سباب المسلم فسوق وقتاله كفر\"  # 4037\n",
    "h_10 = \"من سلك طريقا يلتمس فيه علما\"  # 27070"
   ]
  },
  {
   "cell_type": "markdown",
   "metadata": {},
   "source": [
    "- Colber-Jina\n",
    "more specific than them \n",
    "1 -> first 2 reulsts \n",
    "2 -> \n",
    "- omarmodel MiniALL\n",
    "    1   -> good but exact\n",
    "    2   -> not good\n",
    "    3   -> exact but not in the first 3 results\n",
    "    4   -> get it in the 9 result :(\n",
    "    5   -> good 1 first\n",
    "    6   -> not good\n",
    "    7   -> not good\n",
    "    8   -> not good\n",
    "    9   -> around 5 similar results but not the first one\n",
    "    10  -> bad \n",
    "\n",
    "- omar Arabic-Triplet-Matryoshka-V2\n",
    "    1   -> very good\n",
    "    2   -> very good\n",
    "    3   -> very good\n",
    "    4   -> very good\n",
    "    5   -> very good\n",
    "    6   -> very good\n",
    "    7   -> very good\n",
    "    8   -> very good\n",
    "    9   -> very good\n",
    "    10  -> very good\n",
    "- Slima \n",
    "7/10 \n",
    "not good at short sentences, not stable compared to Arabic-Triplet`\n",
    "- Colbert-Jina \n",
    "\n",
    "- Arabic-Colbertv2"
   ]
  },
  {
   "cell_type": "code",
   "execution_count": null,
   "metadata": {},
   "outputs": [
    {
     "name": "stdout",
     "output_type": "stream",
     "text": [
      "حدثنا زيد بن الحباب أخبرني موسى بن علي قال سمعت أبي يقول سمعت عبد الله بن عمرو بن العاص قال سمعت رسول الله صلى الله عليه وسلم يقول تدرون من المسلم قالوا الله ورسوله أعلم قال من سلم المسلمون من لسانه ويده قال تدرون من المؤمن قالوا الله يعني ورسوله أعلم قال من أمنه المؤمنون على أنفسهم وأموالهم والمهاجر من هجر السوء فاجتنبه.\n",
      "score: 0.4663900360908702 hit_id 25824\n",
      "حدثنا زيد بن الحباب أخبرني موسى بن علي سمعت أبي يقول سمعت عبد الله بن عمرو بن العاص يقول سمعت رسول الله صلى الله عليه وسلم يقول تدرون من المسلم قالوا الله ورسوله أعلم قال من سلم المسلمون من لسانه ويده قال تدرون من المؤمن قالوا الله ورسوله أعلم قال من أمنه المؤمنون على أنفسهم وأموالهم والمهاجر من هجر السوء فاجتنبه.\n",
      "score: 0.4615012095780976 hit_id 25734\n",
      "وقال رسول الله صلى الله عليه وسلم لا يقل أحدكم للعنب الكرم إنما الكرم الرجل المسلم.\n",
      "score: 0.43399559872409 hit_id 26946\n",
      "أخبرنا قتيبة قال حدثنا محمد بن موسى عن سعيد بن أبي سعيد عن أبي هريرة أن رسول الله صلى الله عليه وسلم قال للمؤمن على المؤمن ست خصال يعوده إذا مرض ويشهده إذا مات ويجيبه إذا دعاه ويسلم عليه إذا لقيه ويشمته إذا عطس وينصح له إذا غاب أو شهد.\n",
      "score: 0.41067006962892105 hit_id 1911\n",
      "حدثنا قتيبة بن سعيد قال حدثني رشدين بن سعد عن حميد أبي هانئ الخولاني عن عمرو بن مالك عن فضالة بن عبيد أن رسول الله صلى الله عليه وسلم قال في حجة الوداع ألا أخبركم من المسلم من سلم المسلمون من لسانه ويده والمؤمن من أمنه الناس على أموالهم وأنفسهم والمهاجر من هجر الخطايا والذنوب والمجاهد من جاهد نفسه في طاعة الله عز وجل.\n",
      "score: 0.4057949650652828 hit_id 41945\n",
      "حدثنا أبو عبد الرحمن حدثنا سعيد حدثنا عبد الله بن الوليد عن ابن حجيرة عن أبيه عن أبي هريرة عن النبي صلى الله عليه وسلم قال حق المؤمن على المؤمن ست خصال أن يسلم عليه إذا لقيه ويشمته إذا عطس وإن دعاه أن يجيبه وإذا مرض أن يعوده وإذا مات أن يشهده وإذا غاب أن ينصح له.\n",
      "score: 0.3986203400656666 hit_id 27025\n",
      "حدثنا حسن حدثنا ابن لهيعة حدثنا الحارث بن يزيد عن علي بن رباح قال سمعت عبد الله بن عمرو يقول سمعت رسول الله صلى الله عليه وسلم يقول إن المسلم المسدد ليدرك درجة الصوام القوام بآيات الله بحسن خلقه وكرم ضريبته حدثنا يحيى بن إسحاق حدثنا ابن لهيعة عن الحارث بن يزيد عن ابن حجيرة عن عبد الله بن عمرو عن النبي صلى الله عليه وسلم قال إن المسلم المسدد فذكره.\n",
      "score: 0.3973724808654596 hit_id 25464\n",
      "أخبرنا محمد بن يوسف حدثنا مالك بن مغول عن الأعمش عن أبي سفيان عن جابر قال قيل يا رسول الله أي الإسلام أفضل قال من سلم المسلمون من لسانه ويده.\n",
      "score: 0.390954971768702 hit_id 91691\n",
      "ويروى عن النبي صلى الله عليه وسلم أنه سئل أي المسلمين أفضل قال من سلم المسلمون من لسانه ويده وفي الباب عن جابر وأبي موسى وعبد الله بن عمرو حدثنا بذلك إبراهيم بن سعيد الجوهري حدثنا أبو أسامة عن بريد بن عبد الله بن أبي بردة عن جده أبي بردة عن أبي موسى الأشعري أن النبي صلى الله عليه وسلم سئل أي المسلمين أفضل قال من سلم المسلمون من لسانه ويده قال أبو عيسى هذا حديث صحيح غريب حسن من حديث أبي موسى عن النبي صلى الله عليه وسلم.\n",
      "score: 0.3878044498341898 hit_id 117336\n",
      "حدثنا موسى بن داود حدثنا ابن لهيعة عن أبي الزبير عن جابر قال قال رسول الله صلى الله عليه وسلم مثل المؤمن مثل السنبلة مرة تستقيم ومرة تميل وتعتدل ومثل الكافر مثل الأرزة مستقيمة لا يشعر بها حتى تخر.\n",
      "score: 0.3853278321420053 hit_id 33812\n",
      "حدثنا يحيى بن أيوب وقتيبة وابن حجر قالوا حدثنا إسمعيل وهو ابن جعفر عن العلاء عن أبيه عن أبي هريرة أن رسول الله صلى الله عليه وسلم قال حق المسلم على المسلم ست قيل ما هن يا رسول الله قال إذا لقيته فسلم عليه وإذا دعاك فأجبه وإذا استنصحك فانصح له وإذا عطس فحمد الله فسمته وإذا مرض فعده وإذا مات فاتبعه.\n",
      "score: 0.3821546121884488 hit_id 103493\n",
      "حدثنا سليمان قال حدثنا إسماعيل قال أخبرني العلاء عن أبيه عن أبي هريرة أن النبي صلى الله عليه وسلم قال حق المسلم على المسلم ست قيل ما هي يا رسول الله قال إذا لقيته فسلم عليه وإذا دعاك فأجبه وإذا استنصحك فانصح له وإذا عطس فحمد الله فشمته وإذا مرض فعده وإذا مات فاتبعه.\n",
      "score: 0.3809445638698536 hit_id 27593\n",
      "حدثنا عفان قال حدثنا عبد الرحمن بن إبراهيم القاص قال حدثنا العلاء بن عبد الرحمن عن أبيه عن أبي هريرة أن رسول الله صلى الله عليه وسلم قال حق المسلم على المسلم ست قالوا وما هن يا رسول الله قال إذا لقيته سلم عليه وإذا دعاك فأجبه وإذا استنصحك فانصح له وإذا عطس فحمد الله فشمته وإذا مرض فعده وإذا مات فاصحبه.\n",
      "score: 0.37564769673830484 hit_id 28076\n",
      "حدثنا حسن الحلواني وعبد بن حميد جميعا عن أبي عاصم قال عبد أنبأنا أبو عاصم عن ابن جريج أنه سمع أبا الزبير يقول سمعت جابرا يقولا سمعت النبي صلى الله عليه وسلم يقول المسلم من سلم المسلمون من لسانه ويده.\n",
      "score: 0.37558151249112687 hit_id 99528\n",
      "و حدثني سعيد بن يحيى بن سعيد الأموي قال حدثني أبي حدثنا أبو بردة بن عبد الله بن أبي بردة بن أبي موسى عن أبي بردة عن أبي موسى قال قلت يا رسول الله أي الإسلام أفضل قال من سلم المسلمون من لسانه ويده و حدثنيه إبراهيم بن سعيد الجوهري حدثنا أبو أسامة قال حدثني بريد بن عبد الله بهذا الإسناد قال سئل رسول الله صلى الله عليه وسلم أي المسلمين أفضل فذكر مثله.\n",
      "score: 0.37523163810302745 hit_id 99529\n"
     ]
    }
   ],
   "source": [
    "hits = client.query_points(\n",
    "    collection_name=\"hadith\",\n",
    "    query=model.encode(f_5).tolist(),\n",
    "    limit=15,\n",
    ").points\n",
    "\n",
    "\n",
    "for hit in hits:\n",
    "    # print(hit.payload,\"score:\",hit.score,\"hit_id\",hit.id)\n",
    "    print(hit.payload[\"Text\"])\n",
    "    print(\"score:\", hit.score, \"hit_id\", hit.id)\n",
    "    # print(hit)"
   ]
  },
  {
   "cell_type": "code",
   "execution_count": null,
   "metadata": {},
   "outputs": [],
   "source": []
  },
  {
   "cell_type": "markdown",
   "metadata": {},
   "source": []
  },
  {
   "cell_type": "code",
   "execution_count": null,
   "metadata": {},
   "outputs": [],
   "source": []
  },
  {
   "cell_type": "code",
   "execution_count": null,
   "metadata": {},
   "outputs": [],
   "source": []
  }
 ],
 "metadata": {
  "kernelspec": {
   "display_name": "kobo",
   "language": "python",
   "name": "python3"
  },
  "language_info": {
   "codemirror_mode": {
    "name": "ipython",
    "version": 3
   },
   "file_extension": ".py",
   "mimetype": "text/x-python",
   "name": "python",
   "nbconvert_exporter": "python",
   "pygments_lexer": "ipython3",
   "version": "3.11.10"
  }
 },
 "nbformat": 4,
 "nbformat_minor": 2
}
