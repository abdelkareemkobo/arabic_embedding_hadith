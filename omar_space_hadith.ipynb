{
 "cells": [
  {
   "cell_type": "code",
   "execution_count": null,
   "metadata": {},
   "outputs": [],
   "source": [
    "from datasets import load_dataset\n",
    "from qdrant_client import models,QdrantClient\n",
    "\n",
    "ds = load_dataset(\"arbml/Hadith\")\n"
   ]
  },
  {
   "cell_type": "code",
   "execution_count": null,
   "metadata": {},
   "outputs": [],
   "source": [
    "ds['train'][0]"
   ]
  },
  {
   "cell_type": "code",
   "execution_count": null,
   "metadata": {},
   "outputs": [],
   "source": [
    "documents = ds['train']\n",
    "documents[0]"
   ]
  },
  {
   "cell_type": "code",
   "execution_count": null,
   "metadata": {},
   "outputs": [],
   "source": [
    "client = QdrantClient(\":memory:\")"
   ]
  },
  {
   "cell_type": "code",
   "execution_count": null,
   "metadata": {},
   "outputs": [],
   "source": [
    "from ragatouille import RAGPretrainedModel\n",
    "\n",
    "RAG = RAGPretrainedModel.from_pretrained(\"jinaai/jina-colbert-v2\")\n",
    "docs = [\n",
    "    \"ColBERT is a novel ranking model that adapts deep LMs for efficient retrieval.\",\n",
    "    \"Jina-ColBERT is a ColBERT-style model but based on JinaBERT so it can support both 8k context length, fast and accurate retrieval.\",\n",
    "]\n",
    "RAG.index(docs, index_name=\"demo\")\n",
    "query = \"What does ColBERT do?\"\n",
    "results = RAG.search(query)"
   ]
  },
  {
   "cell_type": "code",
   "execution_count": null,
   "metadata": {},
   "outputs": [],
   "source": [
    "# from sentence_transformers import SentenceTransformer\n",
    "\n",
    "# model = SentenceTransformer(\"silma-ai/silma-embeddding-sts-v0.1\", device=\"cuda\")\n",
    "\n",
    "# sentences = [\n",
    "#     \"ذكر متوازن بعناية يقف على قدم واحدة بالقرب من منطقة شاطئ المحيط النظيفة\",\n",
    "#     \"رجل يقدم عرضاً\",\n",
    "#     \"هناك رجل بالخارج قرب الشاطئ\",\n",
    "#     \"رجل يجلس على أريكه\",\n",
    "# ]\n",
    "# embeddings = model.encode(sentences)\n",
    "\n",
    "# similarities = model.similarity(embeddings, embeddings)\n",
    "# print(similarities.shape)\n",
    "# # [4, 4]"
   ]
  },
  {
   "cell_type": "code",
   "execution_count": null,
   "metadata": {},
   "outputs": [],
   "source": [
    "client.create_collection(\n",
    "    collection_name=\"hadith_slima\",\n",
    "    vectors_config=models.VectorParams(\n",
    "        size=model.get_sentence_embedding_dimension(),\n",
    "        distance=models.Distance.COSINE,\n",
    "        )\n",
    "    )\n"
   ]
  },
  {
   "cell_type": "code",
   "execution_count": null,
   "metadata": {},
   "outputs": [],
   "source": [
    "client.upload_points(\n",
    "    collection_name=\"hadith_slima\",\n",
    "    points=[\n",
    "        models.PointStruct(\n",
    "            id=idx, vector=model.encode(doc[\"Text\"]).tolist(), payload=doc\n",
    "        )\n",
    "        for idx, doc in enumerate(documents)\n",
    "    ],\n",
    ")"
   ]
  },
  {
   "cell_type": "code",
   "execution_count": null,
   "metadata": {},
   "outputs": [],
   "source": [
    "h_1_t = \"من ترك صلاة مكتوبة متعمدا برئت منه ذمة الله\"  # 40165\n",
    "h_2_t = \"من سن في الإسلام سنة حسنة\"  # 37492\n",
    "h_3_t = \"الراحمون يرحمهم الرحمن\"  # 25311\n",
    "h_4_t = \"مثل المؤنين في توادهم وتراحمهم كمثل الجسد الواحد\"  # 36753\n",
    "h_5_t = \"ألا إن في الجسد مضغة إذا صلحت صلح الجسد كله\"  # 81731\n",
    "h_6_t = \"إن العبد ليتكلم بالكلمة من سخط الله\"  # 27672\n",
    "h_7_t = \"من تشبه بقوم فهو منهم\"  # 23973\n",
    "h_8_t = \"اجتنبوا أم الخبائث\"  # 5573\n",
    "h_9_t = \"ليس المؤمن باللعان و لا الطعان ولا الفاحش\"  # 22751\n",
    "h_10_t = \"فضل العالم علي العابد كفضل القمر\"  # 39828"
   ]
  },
  {
   "cell_type": "code",
   "execution_count": null,
   "metadata": {},
   "outputs": [],
   "source": [
    "h_1 = \"العهد الذي  بيننا وبينهم الصلاة فمن تركها فقد كفر\"  # 78826\n",
    "h_2 = \"من دعا الي الهدي كان له من الأجور مثل أجور متبعه\"  # 27900\n",
    "h_3 = \"من لا يرحم الناس لا يرحمه الله\"  # 30040\n",
    "h_4 = \"المؤمن للمؤمن كالبنيان يشد بعضه بعضا\"  # 37904\n",
    "h_5 = \"إن الله لا ينظر الي صوركم و لكن ينظرالي قلوبكم\"  # 29642\n",
    "h_6 = \"من كان يؤمن بالله واليوم الأخر فليقل خيرا أو ليصمت\"  # 25437\n",
    "h_7 = \"يحشر المرء مع من يحب\"  #\n",
    "h_8 = \"لعن الله الخمر وشاربه وساقيها\"  # 24563\n",
    "h_9 = \"سباب المسلم فسوق وقتاله كفر\"  # 4037\n",
    "h_10 = \"من سلك طريقا يلتمس فيه علما\"  # 27070"
   ]
  },
  {
   "cell_type": "markdown",
   "metadata": {},
   "source": [
    "- omarmodel MiniALL\n",
    "    1   -> good but exact\n",
    "    2   -> not good\n",
    "    3   -> exact but not in the first 3 results\n",
    "    4   -> get it in the 9 result :(\n",
    "    5   -> good 1 first\n",
    "    6   -> not good\n",
    "    7   -> not good\n",
    "    8   -> not good\n",
    "    9   -> around 5 similar results but not the first one\n",
    "    10  -> bad \n",
    "\n",
    "- omar Arabic-Triplet-Matryoshka-V2\n",
    "    1   -> very good\n",
    "    2   -> very good\n",
    "    3   -> very good\n",
    "    4   -> very good\n",
    "    5   -> very good\n",
    "    6   -> very good\n",
    "    7   -> very good\n",
    "    8   -> very good\n",
    "    9   -> very good\n",
    "    10  -> very good\n",
    "- Slima \n",
    "7/10 \n",
    "not good at short sentences, not stable compared to Arabic-Triplet`\n",
    "- Colbert-Jina \n",
    "\n",
    "- Arabic-Colbertv2"
   ]
  },
  {
   "cell_type": "code",
   "execution_count": null,
   "metadata": {},
   "outputs": [],
   "source": [
    "hits = client.query_points(\n",
    "    collection_name=\"hadith_slima\",\n",
    "    query=model.encode(h_10).tolist(),\n",
    "    limit=15,\n",
    ").points\n",
    "\n",
    "\n",
    "for hit in hits:\n",
    "    # print(hit.payload,\"score:\",hit.score,\"hit_id\",hit.id)\n",
    "    print(hit.payload[\"Text\"])\n",
    "    print(\"score:\", hit.score, \"hit_id\", hit.id)\n",
    "    # print(hit)"
   ]
  },
  {
   "cell_type": "code",
   "execution_count": null,
   "metadata": {},
   "outputs": [],
   "source": [
    "test_arbml = [(41032),(29640),(92508)]"
   ]
  },
  {
   "cell_type": "code",
   "execution_count": null,
   "metadata": {},
   "outputs": [],
   "source": [
    "documents[92508]"
   ]
  },
  {
   "cell_type": "code",
   "execution_count": null,
   "metadata": {},
   "outputs": [],
   "source": []
  },
  {
   "cell_type": "markdown",
   "metadata": {},
   "source": []
  },
  {
   "cell_type": "code",
   "execution_count": null,
   "metadata": {},
   "outputs": [],
   "source": []
  },
  {
   "cell_type": "code",
   "execution_count": null,
   "metadata": {},
   "outputs": [],
   "source": []
  }
 ],
 "metadata": {
  "kernelspec": {
   "display_name": "IR",
   "language": "python",
   "name": "python3"
  },
  "language_info": {
   "codemirror_mode": {
    "name": "ipython",
    "version": 3
   },
   "file_extension": ".py",
   "mimetype": "text/x-python",
   "name": "python",
   "nbconvert_exporter": "python",
   "pygments_lexer": "ipython3",
   "version": "3.11.9"
  }
 },
 "nbformat": 4,
 "nbformat_minor": 2
}
