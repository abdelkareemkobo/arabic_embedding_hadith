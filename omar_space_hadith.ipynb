{
 "cells": [
  {
   "cell_type": "code",
   "execution_count": 1,
   "metadata": {},
   "outputs": [],
   "source": [
    "from datasets import load_dataset\n",
    "from qdrant_client import models,QdrantClient\n",
    "\n",
    "ds = load_dataset(\"arbml/Hadith\")\n"
   ]
  },
  {
   "cell_type": "code",
   "execution_count": 2,
   "metadata": {},
   "outputs": [
    {
     "data": {
      "text/plain": [
       "{'Text': 'أخبرنا قتيبة بن سعيد قال حدثنا سفيان عن الزهري عن أبي سلمة عن أبي هريرة أن النبي صلى الله عليه وسلم قال إذا استيقظ أحدكم من نومه فلا يغمس يده في وضوئه حتى يغسلها ثلاثا فإن أحدكم لا يدري أين باتت يده.'}"
      ]
     },
     "execution_count": 2,
     "metadata": {},
     "output_type": "execute_result"
    }
   ],
   "source": [
    "ds['train'][0]"
   ]
  },
  {
   "cell_type": "code",
   "execution_count": 3,
   "metadata": {},
   "outputs": [
    {
     "data": {
      "text/plain": [
       "{'Text': 'أخبرنا قتيبة بن سعيد قال حدثنا سفيان عن الزهري عن أبي سلمة عن أبي هريرة أن النبي صلى الله عليه وسلم قال إذا استيقظ أحدكم من نومه فلا يغمس يده في وضوئه حتى يغسلها ثلاثا فإن أحدكم لا يدري أين باتت يده.'}"
      ]
     },
     "execution_count": 3,
     "metadata": {},
     "output_type": "execute_result"
    }
   ],
   "source": [
    "documents = ds['train']\n",
    "documents[0]"
   ]
  },
  {
   "cell_type": "code",
   "execution_count": 4,
   "metadata": {},
   "outputs": [],
   "source": [
    "client = QdrantClient(\":memory:\")"
   ]
  },
  {
   "cell_type": "code",
   "execution_count": 5,
   "metadata": {},
   "outputs": [],
   "source": [
    "import torch\n",
    "torch.cuda.empty_cache()"
   ]
  },
  {
   "cell_type": "code",
   "execution_count": 6,
   "metadata": {},
   "outputs": [],
   "source": [
    "# from ragatouille import RAGPretrainedModel\n",
    "\n",
    "# RAG = RAGPretrainedModel.from_pretrained(\"jinaai/jina-colbert-v2\")\n",
    "# docs = [\n",
    "#     \"ColBERT is a novel ranking model that adapts deep LMs for efficient retrieval.\",\n",
    "#     \"Jina-ColBERT is a ColBERT-style model but based on JinaBERT so it can support both 8k context length, fast and accurate retrieval.\",\n",
    "# ]\n",
    "# RAG.index(docs, index_name=\"demo\")\n",
    "# query = \"What does ColBERT do?\"\n",
    "# results = RAG.search(query)"
   ]
  },
  {
   "cell_type": "code",
   "execution_count": 7,
   "metadata": {},
   "outputs": [],
   "source": [
    "from sentence_transformers import SentenceTransformer\n",
    "\n",
    "model = SentenceTransformer(\n",
    "    \"Omartificial-Intelligence-Space/Arabic-Triplet-Matryoshka-V2\", device=\"cuda\"\n",
    ")\n",
    "\n",
    "sentences = [\n",
    "    \"ذكر متوازن بعناية يقف على قدم واحدة بالقرب من منطقة شاطئ المحيط النظيفة\",\n",
    "    \"رجل يقدم عرضاً\",\n",
    "    \"هناك رجل بالخارج قرب الشاطئ\",\n",
    "    \"رجل يجلس على أريكه\",\n",
    "]\n",
    "embeddings = model.encode(sentences)\n",
    "\n",
    "\n",
    "# [4, 4]"
   ]
  },
  {
   "cell_type": "code",
   "execution_count": 8,
   "metadata": {},
   "outputs": [
    {
     "data": {
      "text/plain": [
       "True"
      ]
     },
     "execution_count": 8,
     "metadata": {},
     "output_type": "execute_result"
    }
   ],
   "source": [
    "client.create_collection(\n",
    "    collection_name=\"hadith\",\n",
    "    vectors_config=models.VectorParams(\n",
    "        size=model.get_sentence_embedding_dimension(),\n",
    "        distance=models.Distance.COSINE,\n",
    "        )\n",
    "    )\n"
   ]
  },
  {
   "cell_type": "code",
   "execution_count": 10,
   "metadata": {},
   "outputs": [],
   "source": [
    "client.upload_points(\n",
    "    collection_name=\"hadith\",\n",
    "    points=[\n",
    "        models.PointStruct(\n",
    "            id=idx, vector=model.encode(doc[\"Text\"]).tolist(), payload=doc\n",
    "        )\n",
    "        for idx, doc in enumerate(documents)\n",
    "    ],\n",
    ")"
   ]
  },
  {
   "cell_type": "code",
   "execution_count": 11,
   "metadata": {},
   "outputs": [],
   "source": [
    "f_1 = \"حديث جبريل الطويل عن الاسلام\"\n",
    "f_2 = \"هل يجوز زيارة القبور؟\"\n",
    "f_3 = \"أحاديث عن الصدقة\"\n",
    "f_4 = \"هل يوجب المذي الغسل؟\"\n",
    "f_5 = \"ماهي صفات المسلم؟\""
   ]
  },
  {
   "cell_type": "code",
   "execution_count": null,
   "metadata": {},
   "outputs": [],
   "source": [
    "h_1_t = \"من ترك صلاة مكتوبة متعمدا برئت منه ذمة الله\"  # 40165\n",
    "h_2_t = \"من سن في الإسلام سنة حسنة\"  # 37492\n",
    "h_3_t = \"الراحمون يرحمهم الرحمن\"  # 25311\n",
    "h_4_t = \"مثل المؤنين في توادهم وتراحمهم كمثل الجسد الواحد\"  # 36753\n",
    "h_5_t = \"ألا إن في الجسد مضغة إذا صلحت صلح الجسد كله\"  # 81731\n",
    "h_6_t = \"إن العبد ليتكلم بالكلمة من سخط الله\"  # 27672\n",
    "h_7_t = \"من تشبه بقوم فهو منهم\"  # 23973\n",
    "h_8_t = \"اجتنبوا أم الخبائث\"  # 5573\n",
    "h_9_t = \"ليس المؤمن باللعان و لا الطعان ولا الفاحش\"  # 22751\n",
    "h_10_t = \"فضل العالم علي العابد كفضل القمر\"  # 39828"
   ]
  },
  {
   "cell_type": "code",
   "execution_count": null,
   "metadata": {},
   "outputs": [],
   "source": [
    "h_1 = \"العهد الذي  بيننا وبينهم الصلاة فمن تركها فقد كفر\"  # 78826\n",
    "h_2 = \"من دعا الي الهدي كان له من الأجور مثل أجور متبعه\"  # 27900\n",
    "h_3 = \"من لا يرحم الناس لا يرحمه الله\"  # 30040\n",
    "h_4 = \"المؤمن للمؤمن كالبنيان يشد بعضه بعضا\"  # 37904\n",
    "h_5 = \"إن الله لا ينظر الي صوركم و لكن ينظرالي قلوبكم\"  # 29642\n",
    "h_6 = \"من كان يؤمن بالله واليوم الأخر فليقل خيرا أو ليصمت\"  # 25437\n",
    "h_7 = \"يحشر المرء مع من يحب\"  #\n",
    "h_8 = \"لعن الله الخمر وشاربه وساقيها\"  # 24563\n",
    "h_9 = \"سباب المسلم فسوق وقتاله كفر\"  # 4037\n",
    "h_10 = \"من سلك طريقا يلتمس فيه علما\"  # 27070"
   ]
  },
  {
   "cell_type": "markdown",
   "metadata": {},
   "source": [
    "- Colber-Jina\n",
    "more specific than them \n",
    "1 -> first 2 reulsts \n",
    "2 -> \n",
    "- omarmodel MiniALL\n",
    "    1   -> good but exact\n",
    "    2   -> not good\n",
    "    3   -> exact but not in the first 3 results\n",
    "    4   -> get it in the 9 result :(\n",
    "    5   -> good 1 first\n",
    "    6   -> not good\n",
    "    7   -> not good\n",
    "    8   -> not good\n",
    "    9   -> around 5 similar results but not the first one\n",
    "    10  -> bad \n",
    "\n",
    "- omar Arabic-Triplet-Matryoshka-V2\n",
    "    1   -> very good\n",
    "    2   -> very good\n",
    "    3   -> very good\n",
    "    4   -> very good\n",
    "    5   -> very good\n",
    "    6   -> very good\n",
    "    7   -> very good\n",
    "    8   -> very good\n",
    "    9   -> very good\n",
    "    10  -> very good\n",
    "- Slima \n",
    "7/10 \n",
    "not good at short sentences, not stable compared to Arabic-Triplet`\n",
    "- Colbert-Jina \n",
    "\n",
    "- Arabic-Colbertv2"
   ]
  },
  {
   "cell_type": "code",
   "execution_count": 16,
   "metadata": {},
   "outputs": [
    {
     "name": "stdout",
     "output_type": "stream",
     "text": [
      "حدثنا زيد بن الحباب أخبرني موسى بن علي قال سمعت أبي يقول سمعت عبد الله بن عمرو بن العاص قال سمعت رسول الله صلى الله عليه وسلم يقول تدرون من المسلم قالوا الله ورسوله أعلم قال من سلم المسلمون من لسانه ويده قال تدرون من المؤمن قالوا الله يعني ورسوله أعلم قال من أمنه المؤمنون على أنفسهم وأموالهم والمهاجر من هجر السوء فاجتنبه.\n",
      "score: 0.4663900360908702 hit_id 25824\n",
      "حدثنا زيد بن الحباب أخبرني موسى بن علي سمعت أبي يقول سمعت عبد الله بن عمرو بن العاص يقول سمعت رسول الله صلى الله عليه وسلم يقول تدرون من المسلم قالوا الله ورسوله أعلم قال من سلم المسلمون من لسانه ويده قال تدرون من المؤمن قالوا الله ورسوله أعلم قال من أمنه المؤمنون على أنفسهم وأموالهم والمهاجر من هجر السوء فاجتنبه.\n",
      "score: 0.4615012095780976 hit_id 25734\n",
      "وقال رسول الله صلى الله عليه وسلم لا يقل أحدكم للعنب الكرم إنما الكرم الرجل المسلم.\n",
      "score: 0.43399559872409 hit_id 26946\n",
      "أخبرنا قتيبة قال حدثنا محمد بن موسى عن سعيد بن أبي سعيد عن أبي هريرة أن رسول الله صلى الله عليه وسلم قال للمؤمن على المؤمن ست خصال يعوده إذا مرض ويشهده إذا مات ويجيبه إذا دعاه ويسلم عليه إذا لقيه ويشمته إذا عطس وينصح له إذا غاب أو شهد.\n",
      "score: 0.41067006962892105 hit_id 1911\n",
      "حدثنا قتيبة بن سعيد قال حدثني رشدين بن سعد عن حميد أبي هانئ الخولاني عن عمرو بن مالك عن فضالة بن عبيد أن رسول الله صلى الله عليه وسلم قال في حجة الوداع ألا أخبركم من المسلم من سلم المسلمون من لسانه ويده والمؤمن من أمنه الناس على أموالهم وأنفسهم والمهاجر من هجر الخطايا والذنوب والمجاهد من جاهد نفسه في طاعة الله عز وجل.\n",
      "score: 0.4057949650652828 hit_id 41945\n",
      "حدثنا أبو عبد الرحمن حدثنا سعيد حدثنا عبد الله بن الوليد عن ابن حجيرة عن أبيه عن أبي هريرة عن النبي صلى الله عليه وسلم قال حق المؤمن على المؤمن ست خصال أن يسلم عليه إذا لقيه ويشمته إذا عطس وإن دعاه أن يجيبه وإذا مرض أن يعوده وإذا مات أن يشهده وإذا غاب أن ينصح له.\n",
      "score: 0.3986203400656666 hit_id 27025\n",
      "حدثنا حسن حدثنا ابن لهيعة حدثنا الحارث بن يزيد عن علي بن رباح قال سمعت عبد الله بن عمرو يقول سمعت رسول الله صلى الله عليه وسلم يقول إن المسلم المسدد ليدرك درجة الصوام القوام بآيات الله بحسن خلقه وكرم ضريبته حدثنا يحيى بن إسحاق حدثنا ابن لهيعة عن الحارث بن يزيد عن ابن حجيرة عن عبد الله بن عمرو عن النبي صلى الله عليه وسلم قال إن المسلم المسدد فذكره.\n",
      "score: 0.3973724808654596 hit_id 25464\n",
      "أخبرنا محمد بن يوسف حدثنا مالك بن مغول عن الأعمش عن أبي سفيان عن جابر قال قيل يا رسول الله أي الإسلام أفضل قال من سلم المسلمون من لسانه ويده.\n",
      "score: 0.390954971768702 hit_id 91691\n",
      "ويروى عن النبي صلى الله عليه وسلم أنه سئل أي المسلمين أفضل قال من سلم المسلمون من لسانه ويده وفي الباب عن جابر وأبي موسى وعبد الله بن عمرو حدثنا بذلك إبراهيم بن سعيد الجوهري حدثنا أبو أسامة عن بريد بن عبد الله بن أبي بردة عن جده أبي بردة عن أبي موسى الأشعري أن النبي صلى الله عليه وسلم سئل أي المسلمين أفضل قال من سلم المسلمون من لسانه ويده قال أبو عيسى هذا حديث صحيح غريب حسن من حديث أبي موسى عن النبي صلى الله عليه وسلم.\n",
      "score: 0.3878044498341898 hit_id 117336\n",
      "حدثنا موسى بن داود حدثنا ابن لهيعة عن أبي الزبير عن جابر قال قال رسول الله صلى الله عليه وسلم مثل المؤمن مثل السنبلة مرة تستقيم ومرة تميل وتعتدل ومثل الكافر مثل الأرزة مستقيمة لا يشعر بها حتى تخر.\n",
      "score: 0.3853278321420053 hit_id 33812\n",
      "حدثنا يحيى بن أيوب وقتيبة وابن حجر قالوا حدثنا إسمعيل وهو ابن جعفر عن العلاء عن أبيه عن أبي هريرة أن رسول الله صلى الله عليه وسلم قال حق المسلم على المسلم ست قيل ما هن يا رسول الله قال إذا لقيته فسلم عليه وإذا دعاك فأجبه وإذا استنصحك فانصح له وإذا عطس فحمد الله فسمته وإذا مرض فعده وإذا مات فاتبعه.\n",
      "score: 0.3821546121884488 hit_id 103493\n",
      "حدثنا سليمان قال حدثنا إسماعيل قال أخبرني العلاء عن أبيه عن أبي هريرة أن النبي صلى الله عليه وسلم قال حق المسلم على المسلم ست قيل ما هي يا رسول الله قال إذا لقيته فسلم عليه وإذا دعاك فأجبه وإذا استنصحك فانصح له وإذا عطس فحمد الله فشمته وإذا مرض فعده وإذا مات فاتبعه.\n",
      "score: 0.3809445638698536 hit_id 27593\n",
      "حدثنا عفان قال حدثنا عبد الرحمن بن إبراهيم القاص قال حدثنا العلاء بن عبد الرحمن عن أبيه عن أبي هريرة أن رسول الله صلى الله عليه وسلم قال حق المسلم على المسلم ست قالوا وما هن يا رسول الله قال إذا لقيته سلم عليه وإذا دعاك فأجبه وإذا استنصحك فانصح له وإذا عطس فحمد الله فشمته وإذا مرض فعده وإذا مات فاصحبه.\n",
      "score: 0.37564769673830484 hit_id 28076\n",
      "حدثنا حسن الحلواني وعبد بن حميد جميعا عن أبي عاصم قال عبد أنبأنا أبو عاصم عن ابن جريج أنه سمع أبا الزبير يقول سمعت جابرا يقولا سمعت النبي صلى الله عليه وسلم يقول المسلم من سلم المسلمون من لسانه ويده.\n",
      "score: 0.37558151249112687 hit_id 99528\n",
      "و حدثني سعيد بن يحيى بن سعيد الأموي قال حدثني أبي حدثنا أبو بردة بن عبد الله بن أبي بردة بن أبي موسى عن أبي بردة عن أبي موسى قال قلت يا رسول الله أي الإسلام أفضل قال من سلم المسلمون من لسانه ويده و حدثنيه إبراهيم بن سعيد الجوهري حدثنا أبو أسامة قال حدثني بريد بن عبد الله بهذا الإسناد قال سئل رسول الله صلى الله عليه وسلم أي المسلمين أفضل فذكر مثله.\n",
      "score: 0.37523163810302745 hit_id 99529\n"
     ]
    }
   ],
   "source": [
    "hits = client.query_points(\n",
    "    collection_name=\"hadith\",\n",
    "    query=model.encode(f_5).tolist(),\n",
    "    limit=15,\n",
    ").points\n",
    "\n",
    "\n",
    "for hit in hits:\n",
    "    # print(hit.payload,\"score:\",hit.score,\"hit_id\",hit.id)\n",
    "    print(hit.payload[\"Text\"])\n",
    "    print(\"score:\", hit.score, \"hit_id\", hit.id)\n",
    "    # print(hit)"
   ]
  },
  {
   "cell_type": "code",
   "execution_count": null,
   "metadata": {},
   "outputs": [],
   "source": []
  },
  {
   "cell_type": "markdown",
   "metadata": {},
   "source": []
  },
  {
   "cell_type": "code",
   "execution_count": null,
   "metadata": {},
   "outputs": [],
   "source": []
  },
  {
   "cell_type": "code",
   "execution_count": null,
   "metadata": {},
   "outputs": [],
   "source": []
  }
 ],
 "metadata": {
  "kernelspec": {
   "display_name": "IR",
   "language": "python",
   "name": "python3"
  },
  "language_info": {
   "codemirror_mode": {
    "name": "ipython",
    "version": 3
   },
   "file_extension": ".py",
   "mimetype": "text/x-python",
   "name": "python",
   "nbconvert_exporter": "python",
   "pygments_lexer": "ipython3",
   "version": "3.11.9"
  }
 },
 "nbformat": 4,
 "nbformat_minor": 2
}
