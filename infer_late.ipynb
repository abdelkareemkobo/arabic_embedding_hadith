{
 "cells": [
  {
   "cell_type": "code",
   "execution_count": 1,
   "metadata": {},
   "outputs": [],
   "source": [
    "import flash_attn"
   ]
  },
  {
   "cell_type": "code",
   "execution_count": 2,
   "metadata": {},
   "outputs": [
    {
     "name": "stderr",
     "output_type": "stream",
     "text": [
      "No sentence-transformers model found with name jinaai/jina-colbert-v2.\n",
      "/home/linux/miniforge3/envs/kobo/lib/python3.11/site-packages/flash_attn/ops/triton/layer_norm.py:984: FutureWarning: `torch.cuda.amp.custom_fwd(args...)` is deprecated. Please use `torch.amp.custom_fwd(args..., device_type='cuda')` instead.\n",
      "  @custom_fwd\n",
      "/home/linux/miniforge3/envs/kobo/lib/python3.11/site-packages/flash_attn/ops/triton/layer_norm.py:1043: FutureWarning: `torch.cuda.amp.custom_bwd(args...)` is deprecated. Please use `torch.amp.custom_bwd(args..., device_type='cuda')` instead.\n",
      "  @custom_bwd\n",
      "Loaded the ColBERT model from Stanford NLP.\n",
      "The tokenizer does not support resizing the token embeddings, the prefixes token have not been added to vocabulary.\n"
     ]
    }
   ],
   "source": [
    "from pylate import indexes, models, retrieve\n",
    "\n",
    "model = models.ColBERT(\n",
    "    model_name_or_path=\"jinaai/jina-colbert-v2\",trust_remote_code=True\n",
    ")\n",
    "\n",
    "index = indexes.Voyager(\n",
    "    index_folder=\"pylate-index\",\n",
    "    index_name=\"index\",\n",
    "    override=True,\n",
    ")\n",
    "\n",
    "retriever = retrieve.ColBERT(index=index)"
   ]
  },
  {
   "cell_type": "code",
   "execution_count": null,
   "metadata": {},
   "outputs": [
    {
     "data": {
      "application/vnd.jupyter.widget-view+json": {
       "model_id": "8d02e21f4bf44250a6df6e3cfbd06b29",
       "version_major": 2,
       "version_minor": 0
      },
      "text/plain": [
       "Encoding documents (bs=32):   0%|          | 0/1 [00:00<?, ?it/s]"
      ]
     },
     "metadata": {},
     "output_type": "display_data"
    },
    {
     "name": "stderr",
     "output_type": "stream",
     "text": [
      "Adding documents to the index (bs=2000): 100%|██████████| 1/1 [00:00<00:00, 4223.87it/s]\n"
     ]
    },
    {
     "data": {
      "text/plain": [
       "<pylate.indexes.voyager.Voyager at 0x7f2a65203d90>"
      ]
     },
     "execution_count": 3,
     "metadata": {},
     "output_type": "execute_result"
    }
   ],
   "source": [
    "\n",
    "\n",
    "# Encode the documents\n",
    "documents_embeddings = model.encode(\n",
    "    documents,\n",
    "    batch_size=32,\n",
    "    is_query=False, # Encoding documents\n",
    "    show_progress_bar=True,\n",
    ")\n",
    "\n",
    "# Add the documents ids and embeddings to the Voyager index\n",
    "index.add_documents(\n",
    "    documents_ids=documents_ids,\n",
    "    documents_embeddings=documents_embeddings,\n",
    ")"
   ]
  },
  {
   "cell_type": "code",
   "execution_count": 4,
   "metadata": {},
   "outputs": [
    {
     "data": {
      "application/vnd.jupyter.widget-view+json": {
       "model_id": "a22bc7394cc046a193ee263ac2820260",
       "version_major": 2,
       "version_minor": 0
      },
      "text/plain": [
       "Encoding queries (bs=32):   0%|          | 0/1 [00:00<?, ?it/s]"
      ]
     },
     "metadata": {},
     "output_type": "display_data"
    },
    {
     "name": "stderr",
     "output_type": "stream",
     "text": [
      "Retrieving documents (bs=50): 100%|██████████| 1/1 [00:00<00:00,  4.81it/s]"
     ]
    },
    {
     "name": "stdout",
     "output_type": "stream",
     "text": [
      "[[{'id': '3', 'score': 6.247945308685303}, {'id': '2', 'score': 5.214585781097412}, {'id': '1', 'score': 5.140275478363037}], [{'id': '1', 'score': 6.264069557189941}, {'id': '2', 'score': 5.509773254394531}, {'id': '3', 'score': 5.278353214263916}]]\n"
     ]
    },
    {
     "name": "stderr",
     "output_type": "stream",
     "text": [
      "\n"
     ]
    }
   ],
   "source": [
    "queries_embeddings = model.encode(\n",
    "    [\"query for document 3\", \"query for document 1\"],\n",
    "    batch_size=32,\n",
    "    is_query=True, # Encoding queries\n",
    "    show_progress_bar=True,\n",
    ")\n",
    "\n",
    "scores = retriever.retrieve(\n",
    "    queries_embeddings=queries_embeddings, \n",
    "    k=10,\n",
    ")\n",
    "\n",
    "print(scores)"
   ]
  },
  {
   "cell_type": "code",
   "execution_count": null,
   "metadata": {},
   "outputs": [],
   "source": []
  }
 ],
 "metadata": {
  "kernelspec": {
   "display_name": "Python 3",
   "language": "python",
   "name": "python3"
  },
  "language_info": {
   "codemirror_mode": {
    "name": "ipython",
    "version": 3
   },
   "file_extension": ".py",
   "mimetype": "text/x-python",
   "name": "python",
   "nbconvert_exporter": "python",
   "pygments_lexer": "ipython3",
   "version": "3.11.10"
  }
 },
 "nbformat": 4,
 "nbformat_minor": 2
}
