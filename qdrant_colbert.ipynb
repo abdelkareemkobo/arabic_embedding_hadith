{
 "cells": [
  {
   "cell_type": "code",
   "execution_count": 1,
   "metadata": {},
   "outputs": [],
   "source": [
    "from fastembed import LateInteractionTextEmbedding\n",
    "from datasets import load_dataset"
   ]
  },
  {
   "cell_type": "code",
   "execution_count": 2,
   "metadata": {},
   "outputs": [],
   "source": [
    "ds = load_dataset(\"arbml/Hadith\")\n"
   ]
  },
  {
   "cell_type": "code",
   "execution_count": 3,
   "metadata": {},
   "outputs": [],
   "source": [
    "documents = ds['train'][\"Text\"]"
   ]
  },
  {
   "cell_type": "code",
   "execution_count": 4,
   "metadata": {},
   "outputs": [
    {
     "data": {
      "text/plain": [
       "[{'model': 'colbert-ir/colbertv2.0',\n",
       "  'dim': 128,\n",
       "  'description': 'Late interaction model',\n",
       "  'license': 'mit',\n",
       "  'size_in_GB': 0.44,\n",
       "  'sources': {'hf': 'colbert-ir/colbertv2.0'},\n",
       "  'model_file': 'model.onnx'},\n",
       " {'model': 'answerdotai/answerai-colbert-small-v1',\n",
       "  'dim': 96,\n",
       "  'description': 'Text embeddings, Unimodal (text), Multilingual (~100 languages), 512 input tokens truncation, 2024 year',\n",
       "  'license': 'apache-2.0',\n",
       "  'size_in_GB': 0.13,\n",
       "  'sources': {'hf': 'answerdotai/answerai-colbert-small-v1'},\n",
       "  'model_file': 'vespa_colbert.onnx'},\n",
       " {'model': 'jinaai/jina-colbert-v2',\n",
       "  'dim': 128,\n",
       "  'description': 'New model that expands capabilities of colbert-v1 with multilingual and context length of 8192, 2024 year',\n",
       "  'license': 'cc-by-nc-4.0',\n",
       "  'size_in_GB': 2.24,\n",
       "  'sources': {'hf': 'jinaai/jina-colbert-v2'},\n",
       "  'model_file': 'onnx/model.onnx',\n",
       "  'additional_files': ['onnx/model.onnx_data']}]"
      ]
     },
     "execution_count": 4,
     "metadata": {},
     "output_type": "execute_result"
    }
   ],
   "source": [
    "LateInteractionTextEmbedding.list_supported_models()"
   ]
  },
  {
   "cell_type": "code",
   "execution_count": 6,
   "metadata": {},
   "outputs": [
    {
     "data": {
      "application/vnd.jupyter.widget-view+json": {
       "model_id": "dcd7aa6509764f68963d06ae4a74eeca",
       "version_major": 2,
       "version_minor": 0
      },
      "text/plain": [
       "Fetching 6 files:   0%|          | 0/6 [00:00<?, ?it/s]"
      ]
     },
     "metadata": {},
     "output_type": "display_data"
    }
   ],
   "source": [
    "embedding_model = LateInteractionTextEmbedding(\"jinaai/jina-colbert-v2\")\n",
    "# embedding_model = LateInteractionTextEmbedding(\"answerdotai/answerai-colbert-small-v1\")"
   ]
  },
  {
   "cell_type": "markdown",
   "metadata": {},
   "source": [
    "- JinaColbert => \n",
    "- "
   ]
  },
  {
   "cell_type": "code",
   "execution_count": 7,
   "metadata": {},
   "outputs": [
    {
     "data": {
      "text/plain": [
       "<fastembed.late_interaction.late_interaction_text_embedding.LateInteractionTextEmbedding at 0x76263c1cb610>"
      ]
     },
     "execution_count": 7,
     "metadata": {},
     "output_type": "execute_result"
    }
   ],
   "source": [
    "embedding_model"
   ]
  },
  {
   "cell_type": "code",
   "execution_count": 8,
   "metadata": {},
   "outputs": [
    {
     "data": {
      "text/plain": [
       "124338"
      ]
     },
     "execution_count": 8,
     "metadata": {},
     "output_type": "execute_result"
    }
   ],
   "source": [
    "len(documents)"
   ]
  },
  {
   "cell_type": "code",
   "execution_count": null,
   "metadata": {},
   "outputs": [
    {
     "name": "stderr",
     "output_type": "stream",
     "text": [
      "Embedding Documents:   0%|          | 0/486 [00:00<?, ?it/s]"
     ]
    }
   ],
   "source": [
    "from tqdm import tqdm\n",
    "\n",
    "descriptions_embeddings = []\n",
    "# Use tqdm to wrap the range for the progress bar\n",
    "for i in tqdm(range(0, len(documents), 256), desc=\"Embedding Documents\"):\n",
    "    batch = documents[i:i + 256]\n",
    "    batch_embeddings = embedding_model.embed(batch)\n",
    "    descriptions_embeddings.extend(batch_embeddings)\n"
   ]
  },
  {
   "cell_type": "code",
   "execution_count": 10,
   "metadata": {},
   "outputs": [
    {
     "ename": "IndexError",
     "evalue": "list index out of range",
     "output_type": "error",
     "traceback": [
      "\u001b[0;31m---------------------------------------------------------------------------\u001b[0m",
      "\u001b[0;31mIndexError\u001b[0m                                Traceback (most recent call last)",
      "Cell \u001b[0;32mIn[10], line 1\u001b[0m\n\u001b[0;32m----> 1\u001b[0m \u001b[43mdescriptions_embeddings\u001b[49m\u001b[43m[\u001b[49m\u001b[38;5;241;43m0\u001b[39;49m\u001b[43m]\u001b[49m\u001b[38;5;241m.\u001b[39mshape\n",
      "\u001b[0;31mIndexError\u001b[0m: list index out of range"
     ]
    }
   ],
   "source": [
    "descriptions_embeddings[0].shape"
   ]
  },
  {
   "cell_type": "code",
   "execution_count": null,
   "metadata": {},
   "outputs": [],
   "source": [
    "from qdrant_client import QdrantClient,models\n",
    "\n",
    "client = QdrantClient(url=\"http://localhost:6333\")"
   ]
  },
  {
   "cell_type": "code",
   "execution_count": null,
   "metadata": {},
   "outputs": [
    {
     "data": {
      "text/plain": [
       "True"
      ]
     },
     "execution_count": 10,
     "metadata": {},
     "output_type": "execute_result"
    }
   ],
   "source": [
    "qdrant_client.create_collection(\n",
    "    collection_name=\"movies\",\n",
    "    vectors_config=models.VectorParams(\n",
    "        size=128, #size of each vector produced by ColBERT\n",
    "        distance=models.Distance.COSINE, #similarity metric between each vector\n",
    "        multivector_config=models.MultiVectorConfig(\n",
    "            comparator=models.MultiVectorComparator.MAX_SIM #similarity metric between multivectors (matrices)\n",
    "        ),\n",
    "    ),\n",
    ")"
   ]
  },
  {
   "cell_type": "code",
   "execution_count": null,
   "metadata": {},
   "outputs": [],
   "source": [
    "metadata = [\n",
    "    {\n",
    "        \"movie_name\": \"The Passion of Joan of Arc\",\n",
    "        \"movie_watch_time_min\": 114,\n",
    "        \"movie_description\": \"In 1431, Jeanne d'Arc is placed on trial on charges of heresy. The ecclesiastical jurists attempt to force Jeanne to recant her claims of holy visions.\",\n",
    "    },\n",
    "    {\n",
    "        \"movie_name\": \"Sherlock Jr.\",\n",
    "        \"movie_watch_time_min\": 45,\n",
    "        \"movie_description\": \"A film projectionist longs to be a detective, and puts his meagre skills to work when he is framed by a rival for stealing his girlfriend's father's pocketwatch.\",\n",
    "    },\n",
    "    {\n",
    "        \"movie_name\": \"Heat\",\n",
    "        \"movie_watch_time_min\": 170,\n",
    "        \"movie_description\": \"A group of high-end professional thieves start to feel the heat from the LAPD when they unknowingly leave a clue at their latest heist.\",\n",
    "    },\n",
    "    {\n",
    "        \"movie_name\": \"Kagemusha\",\n",
    "        \"movie_watch_time_min\": 162,\n",
    "        \"movie_description\": \"A petty thief with an utter resemblance to a samurai warlord is hired as the lord's double. When the warlord later dies the thief is forced to take up arms in his place.\",\n",
    "    },\n",
    "    {\n",
    "        \"movie_name\": \"Kubo and the Two Strings\",\n",
    "        \"movie_watch_time_min\": 101,\n",
    "        \"movie_description\": \"A young boy named Kubo must locate a magical suit of armour worn by his late father in order to defeat a vengeful spirit from the past.\",\n",
    "    },\n",
    "    {\n",
    "        \"movie_name\": \"Sardar Udham\",\n",
    "        \"movie_watch_time_min\": 164,\n",
    "        \"movie_description\": \"A biopic detailing the 2 decades that Punjabi Sikh revolutionary Udham Singh spent planning the assassination of the man responsible for the Jallianwala Bagh massacre.\",\n",
    "    },\n",
    "    {\n",
    "        \"movie_name\": \"Paprika\",\n",
    "        \"movie_watch_time_min\": 90,\n",
    "        \"movie_description\": \"When a machine that allows therapists to enter their patients' dreams is stolen, all hell breaks loose. Only a young female therapist, Paprika, can stop it.\",\n",
    "    },\n",
    "    {\n",
    "        \"movie_name\": \"After Hours\",\n",
    "        \"movie_watch_time_min\": 97,\n",
    "        \"movie_description\": \"An ordinary word processor has the worst night of his life after he agrees to visit a girl in Soho whom he met that evening at a coffee shop.\",\n",
    "    },\n",
    "    {\n",
    "        \"movie_name\": \"Udta Punjab\",\n",
    "        \"movie_watch_time_min\": 148,\n",
    "        \"movie_description\": \"A story that revolves around drug abuse in the affluent north Indian State of Punjab and how the youth there have succumbed to it en-masse resulting in a socio-economic decline.\",\n",
    "    },\n",
    "    {\n",
    "        \"movie_name\": \"Philomena\",\n",
    "        \"movie_watch_time_min\": 98,\n",
    "        \"movie_description\": \"A world-weary political journalist picks up the story of a woman's search for her son, who was taken away from her decades ago after she became pregnant and was forced to live in a convent.\",\n",
    "    },\n",
    "    {\n",
    "        \"movie_name\": \"Neon Genesis Evangelion: The End of Evangelion\",\n",
    "        \"movie_watch_time_min\": 87,\n",
    "        \"movie_description\": \"Concurrent theatrical ending of the TV series Neon Genesis Evangelion (1995).\",\n",
    "    },\n",
    "    {\n",
    "        \"movie_name\": \"The Dirty Dozen\",\n",
    "        \"movie_watch_time_min\": 150,\n",
    "        \"movie_description\": \"During World War II, a rebellious U.S. Army Major is assigned a dozen convicted murderers to train and lead them into a mass assassination mission of German officers.\",\n",
    "    },\n",
    "    {\n",
    "        \"movie_name\": \"Toy Story 3\",\n",
    "        \"movie_watch_time_min\": 103,\n",
    "        \"movie_description\": \"The toys are mistakenly delivered to a day-care center instead of the attic right before Andy leaves for college, and it's up to Woody to convince the other toys that they weren't abandoned and to return home.\",\n",
    "    },\n",
    "    {\n",
    "        \"movie_name\": \"Edge of Tomorrow\",\n",
    "        \"movie_watch_time_min\": 113,\n",
    "        \"movie_description\": \"A soldier fighting aliens gets to relive the same day over and over again, the day restarting every time he dies.\",\n",
    "    },\n",
    "    {\n",
    "        \"movie_name\": \"Some Like It Hot\",\n",
    "        \"movie_watch_time_min\": 121,\n",
    "        \"movie_description\": \"After two male musicians witness a mob hit, they flee the state in an all-female band disguised as women, but further complications set in.\",\n",
    "    },\n",
    "    {\n",
    "        \"movie_name\": \"Snow White and the Seven Dwarfs\",\n",
    "        \"movie_watch_time_min\": 83,\n",
    "        \"movie_description\": \"Exiled into the dangerous forest by her wicked stepmother, a princess is rescued by seven dwarf miners who make her part of their household.\",\n",
    "    },\n",
    "    {\n",
    "        \"movie_name\": \"It Happened One Night\",\n",
    "        \"movie_watch_time_min\": 105,\n",
    "        \"movie_description\": \"A renegade reporter trailing a young runaway heiress for a big story joins her on a bus heading from Florida to New York, and they end up stuck with each other when the bus leaves them behind at one of the stops.\",\n",
    "    },\n",
    "    {\n",
    "        \"movie_name\": \"Nefes: Vatan Sagolsun\",\n",
    "        \"movie_watch_time_min\": 128,\n",
    "        \"movie_description\": \"Story of 40-man Turkish task force who must defend a relay station.\",\n",
    "    },\n",
    "    {\n",
    "        \"movie_name\": \"This Is Spinal Tap\",\n",
    "        \"movie_watch_time_min\": 82,\n",
    "        \"movie_description\": \"Spinal Tap, one of England's loudest bands, is chronicled by film director Marty DiBergi on what proves to be a fateful tour.\",\n",
    "    },\n",
    "    {\n",
    "        \"movie_name\": \"Let the Right One In\",\n",
    "        \"movie_watch_time_min\": 114,\n",
    "        \"movie_description\": \"Oskar, an overlooked and bullied boy, finds love and revenge through Eli, a beautiful but peculiar girl.\",\n",
    "    },\n",
    "]"
   ]
  },
  {
   "cell_type": "code",
   "execution_count": null,
   "metadata": {},
   "outputs": [],
   "source": [
    "qdrant_client.upload_points(\n",
    "    collection_name=\"movies\",\n",
    "    points = [\n",
    "        models.PointStruct(\n",
    "            id=idx,\n",
    "            payload = metadata[idx],\n",
    "            vector=vector\n",
    "        )\n",
    "        for idx,vector in enumerate(descriptions_embeddings)\n",
    "    ]\n",
    ")"
   ]
  },
  {
   "cell_type": "code",
   "execution_count": null,
   "metadata": {},
   "outputs": [
    {
     "data": {
      "text/plain": [
       "QueryResponse(points=[ScoredPoint(id=4, version=0, score=17.79500454225126, payload={'movie_name': 'Kubo and the Two Strings', 'movie_watch_time_min': 101, 'movie_description': 'A young boy named Kubo must locate a magical suit of armour worn by his late father in order to defeat a vengeful spirit from the past.'}, vector=None, shard_key=None, order_value=None)])"
      ]
     },
     "execution_count": 13,
     "metadata": {},
     "output_type": "execute_result"
    }
   ],
   "source": [
    "qdrant_client.query_points(\n",
    "    collection_name=\"movies\",\n",
    "    query=list(embedding_model.query_embed(\"A movie for kids with fantasy elements and wonders\"))[0], #converting generator object into numpy.ndarray\n",
    "    limit=1, #How many closest to the query movies we would like to get\n",
    "    #with_vectors=True, #If this option is used, vectors will also be returned\n",
    "    with_payload=True #So metadata is provided in the output\n",
    ")"
   ]
  },
  {
   "cell_type": "code",
   "execution_count": null,
   "metadata": {},
   "outputs": [],
   "source": []
  },
  {
   "cell_type": "code",
   "execution_count": null,
   "metadata": {},
   "outputs": [],
   "source": []
  }
 ],
 "metadata": {
  "kernelspec": {
   "display_name": "IR",
   "language": "python",
   "name": "python3"
  },
  "language_info": {
   "codemirror_mode": {
    "name": "ipython",
    "version": 3
   },
   "file_extension": ".py",
   "mimetype": "text/x-python",
   "name": "python",
   "nbconvert_exporter": "python",
   "pygments_lexer": "ipython3",
   "version": "3.11.9"
  }
 },
 "nbformat": 4,
 "nbformat_minor": 2
}
