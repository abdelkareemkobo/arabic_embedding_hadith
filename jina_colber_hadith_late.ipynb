{
 "cells": [
  {
   "cell_type": "code",
   "execution_count": 18,
   "metadata": {},
   "outputs": [
    {
     "name": "stderr",
     "output_type": "stream",
     "text": [
      "Using the latest cached version of the dataset since arbml/Hadith couldn't be found on the Hugging Face Hub\n",
      "Found the latest cached dataset configuration 'default' at /home/linux/.cache/huggingface/datasets/arbml___hadith/default/0.0.0/44ebe1a07005ee6afd1b0fa316522b18e05a3be1 (last modified on Sat Nov 23 13:13:04 2024).\n"
     ]
    }
   ],
   "source": [
    "from datasets import load_dataset\n",
    "from qdrant_client import models as qmodels\n",
    "from qdrant_client import QdrantClient\n",
    "\n",
    "ds = load_dataset(\"arbml/Hadith\")\n"
   ]
  },
  {
   "cell_type": "code",
   "execution_count": 19,
   "metadata": {},
   "outputs": [],
   "source": [
    "documents = ds['train']['Text']"
   ]
  },
  {
   "cell_type": "markdown",
   "metadata": {},
   "source": [
    "## Load the model "
   ]
  },
  {
   "cell_type": "code",
   "execution_count": 20,
   "metadata": {},
   "outputs": [
    {
     "name": "stderr",
     "output_type": "stream",
     "text": [
      "No sentence-transformers model found with name answerdotai/answerai-colbert-small-v1.\n",
      "Loaded the ColBERT model from Stanford NLP.\n"
     ]
    }
   ],
   "source": [
    "from pylate import indexes, models, retrieve\n",
    "\n",
    "model = models.ColBERT(\n",
    "    model_name_or_path=\"answerdotai/answerai-colbert-small-v1\",trust_remote_code=True,device='cuda',\n",
    ")"
   ]
  },
  {
   "cell_type": "code",
   "execution_count": 21,
   "metadata": {},
   "outputs": [],
   "source": [
    "index = indexes.Voyager(\n",
    "    index_folder=\"pylate-index\",\n",
    "    index_name=\"index\",\n",
    "    embedding_size=96,\n",
    "    override=True,\n",
    ")\n",
    "\n",
    "retriever = retrieve.ColBERT(index=index)"
   ]
  },
  {
   "cell_type": "code",
   "execution_count": 22,
   "metadata": {},
   "outputs": [
    {
     "data": {
      "text/plain": [
       "<pylate.indexes.voyager.Voyager at 0x7efd8c4f6c50>"
      ]
     },
     "execution_count": 22,
     "metadata": {},
     "output_type": "execute_result"
    }
   ],
   "source": [
    "index"
   ]
  },
  {
   "cell_type": "code",
   "execution_count": 23,
   "metadata": {},
   "outputs": [],
   "source": [
    "documents_ids = [str(i) for i in range(len(documents))]"
   ]
  },
  {
   "cell_type": "code",
   "execution_count": 24,
   "metadata": {},
   "outputs": [
    {
     "data": {
      "application/vnd.jupyter.widget-view+json": {
       "model_id": "b7c2671728db411489534a0cfec0ed01",
       "version_major": 2,
       "version_minor": 0
      },
      "text/plain": [
       "Encoding documents (bs=512):   0%|          | 0/243 [00:00<?, ?it/s]"
      ]
     },
     "metadata": {},
     "output_type": "display_data"
    }
   ],
   "source": [
    "documents_embeddings = model.encode(\n",
    "    documents,\n",
    "    batch_size=256*2,\n",
    "    is_query=False,\n",
    "    show_progress_bar=True\n",
    "\n",
    ")\n"
   ]
  },
  {
   "cell_type": "code",
   "execution_count": null,
   "metadata": {},
   "outputs": [
    {
     "name": "stderr",
     "output_type": "stream",
     "text": [
      "  0%|          | 0/32 [00:00<?, ?it/s]"
     ]
    },
    {
     "name": "stderr",
     "output_type": "stream",
     "text": [
      "Adding documents to the index (bs=4000):  50%|█████     | 1/2 [00:18<00:18, 18.70s/it]\n",
      "Adding documents to the index (bs=4000):  50%|█████     | 1/2 [00:18<00:18, 18.22s/it]\n",
      "Adding documents to the index (bs=4000):  50%|█████     | 1/2 [00:23<00:23, 23.30s/it]\n",
      "Adding documents to the index (bs=4000):  50%|█████     | 1/2 [00:22<00:22, 22.19s/it]\n",
      "Adding documents to the index (bs=4000):  50%|█████     | 1/2 [00:22<00:22, 22.25s/it]\n",
      "Adding documents to the index (bs=4000):  50%|█████     | 1/2 [00:25<00:25, 25.36s/it]\n",
      "Adding documents to the index (bs=4000):  50%|█████     | 1/2 [00:27<00:27, 27.01s/it]\n",
      "Adding documents to the index (bs=4000):  50%|█████     | 1/2 [00:27<00:27, 27.87s/it]\n",
      "Adding documents to the index (bs=4000):  50%|█████     | 1/2 [00:30<00:30, 30.32s/it]\n",
      "Adding documents to the index (bs=4000):  50%|█████     | 1/2 [00:32<00:32, 32.78s/it]\n",
      "Adding documents to the index (bs=4000):  50%|█████     | 1/2 [00:33<00:33, 33.15s/it]\n",
      "Adding documents to the index (bs=4000):  50%|█████     | 1/2 [00:35<00:35, 35.04s/it]\n",
      "Adding documents to the index (bs=4000):   0%|          | 0/2 [00:00<?, ?it/s]"
     ]
    }
   ],
   "source": [
    "from tqdm import tqdm\n",
    "\n",
    "# Chunk the data manually\n",
    "chunk_size = 4000  # Adjust this based on memory limitations\n",
    "num_chunks = (len(documents_ids) + chunk_size - 1) // chunk_size  # Calculate number of chunks\n",
    "\n",
    "for i in tqdm(range(num_chunks)):\n",
    "    start_idx = i * chunk_size\n",
    "    end_idx = min((i + 1) * chunk_size, len(documents_ids))\n",
    "    \n",
    "    # Retrieve the chunk\n",
    "    chunk_ids = documents_ids[start_idx:end_idx]\n",
    "    chunk_embeddings = documents_embeddings[start_idx:end_idx]\n",
    "    \n",
    "    # Add to index\n",
    "    index.add_documents(\n",
    "        documents_ids=chunk_ids,\n",
    "        documents_embeddings=chunk_embeddings,\n",
    "        batch_size=min(chunk_size, len(chunk_ids))  # Ensure batch_size matches chunk size\n",
    "    )\n"
   ]
  },
  {
   "cell_type": "code",
   "execution_count": null,
   "metadata": {},
   "outputs": [],
   "source": [
    "f_1 = \"حديث جبريل الطويل عن الاسلام\"\n",
    "f_2 = \"هل يجوز زيارة القبور؟\"\n",
    "f_3 = \"أحاديث عن الصدقة\"\n",
    "f_4 = \"هل يوجب المذي الغسل؟\"\n",
    "f_5 = \"ماهي صفات المسلم؟\""
   ]
  },
  {
   "cell_type": "code",
   "execution_count": null,
   "metadata": {},
   "outputs": [],
   "source": [
    "h_1_t = \"من ترك صلاة مكتوبة متعمدا برئت منه ذمة الله\"  # 40165\n",
    "h_2_t = \"من سن في الإسلام سنة حسنة\"  # 37492\n",
    "h_3_t = \"الراحمون يرحمهم الرحمن\"  # 25311\n",
    "h_4_t = \"مثل المؤنين في توادهم وتراحمهم كمثل الجسد الواحد\"  # 36753\n",
    "h_5_t = \"ألا إن في الجسد مضغة إذا صلحت صلح الجسد كله\"  # 81731\n",
    "h_6_t = \"إن العبد ليتكلم بالكلمة من سخط الله\"  # 27672\n",
    "h_7_t = \"من تشبه بقوم فهو منهم\"  # 23973\n",
    "h_8_t = \"اجتنبوا أم الخبائث\"  # 5573\n",
    "h_9_t = \"ليس المؤمن باللعان و لا الطعان ولا الفاحش\"  # 22751\n",
    "h_10_t = \"فضل العالم علي العابد كفضل القمر\"  # 39828"
   ]
  },
  {
   "cell_type": "code",
   "execution_count": null,
   "metadata": {},
   "outputs": [],
   "source": [
    "h_1 = \"العهد الذي  بيننا وبينهم الصلاة فمن تركها فقد كفر\"  # 78826\n",
    "h_2 = \"من دعا الي الهدي كان له من الأجور مثل أجور متبعه\"  # 27900\n",
    "h_3 = \"من لا يرحم الناس لا يرحمه الله\"  # 30040\n",
    "h_4 = \"المؤمن للمؤمن كالبنيان يشد بعضه بعضا\"  # 37904\n",
    "h_5 = \"إن الله لا ينظر الي صوركم و لكن ينظرالي قلوبكم\"  # 29642\n",
    "h_6 = \"من كان يؤمن بالله واليوم الأخر فليقل خيرا أو ليصمت\"  # 25437\n",
    "h_7 = \"يحشر المرء مع من يحب\"  #\n",
    "h_8 = \"لعن الله الخمر وشاربه وساقيها\"  # 24563\n",
    "h_9 = \"سباب المسلم فسوق وقتاله كفر\"  # 4037\n",
    "h_10 = \"من سلك طريقا يلتمس فيه علما\"  # 27070"
   ]
  },
  {
   "cell_type": "code",
   "execution_count": null,
   "metadata": {},
   "outputs": [
    {
     "data": {
      "application/vnd.jupyter.widget-view+json": {
       "model_id": "4d1966ca55df4b2c9a8d57e77e16fd2b",
       "version_major": 2,
       "version_minor": 0
      },
      "text/plain": [
       "Encoding queries (bs=2):   0%|          | 0/5 [00:00<?, ?it/s]"
      ]
     },
     "metadata": {},
     "output_type": "display_data"
    }
   ],
   "source": [
    "queries_embeddings = model.encode(\n",
    "    [h_1,h_2,h_3,h_4,h_5,h_6,h_7,h_8,h_9,h_10],\n",
    "    batch_size=2,\n",
    "    is_query=True,\n",
    "    show_progress_bar=True\n",
    ")"
   ]
  },
  {
   "cell_type": "code",
   "execution_count": null,
   "metadata": {},
   "outputs": [
    {
     "name": "stderr",
     "output_type": "stream",
     "text": [
      "Retrieving documents (bs=32): 100%|██████████| 1/1 [00:06<00:00,  6.75s/it]"
     ]
    },
    {
     "name": "stdout",
     "output_type": "stream",
     "text": [
      "[[{'id': '458', 'score': 14.194942474365234}, {'id': '459', 'score': 10.811463356018066}, {'id': '3909', 'score': 10.032829284667969}, {'id': '3040', 'score': 10.029115676879883}, {'id': '5570', 'score': 9.889310836791992}, {'id': '2850', 'score': 9.817706108093262}, {'id': '3591', 'score': 9.805778503417969}, {'id': '2399', 'score': 9.743278503417969}, {'id': '3906', 'score': 9.706753730773926}, {'id': '3039', 'score': 9.705683708190918}], [{'id': '1913', 'score': 12.945530891418457}, {'id': '1969', 'score': 12.238460540771484}, {'id': '4868', 'score': 12.106008529663086}, {'id': '1968', 'score': 11.945481300354004}, {'id': '3115', 'score': 11.88359546661377}, {'id': '845', 'score': 11.669366836547852}, {'id': '1380', 'score': 11.600079536437988}, {'id': '2491', 'score': 11.585163116455078}, {'id': '3088', 'score': 11.32737922668457}, {'id': '3518', 'score': 11.31519889831543}], [{'id': '1200', 'score': 9.190347671508789}, {'id': '1201', 'score': 9.018960952758789}, {'id': '5306', 'score': 8.800436973571777}, {'id': '3910', 'score': 8.53868293762207}, {'id': '3038', 'score': 8.527868270874023}, {'id': '3745', 'score': 8.524182319641113}, {'id': '3914', 'score': 8.492382049560547}, {'id': '3584', 'score': 8.460976600646973}, {'id': '3747', 'score': 8.445077896118164}, {'id': '3908', 'score': 8.430937767028809}], [{'id': '2512', 'score': 14.190956115722656}, {'id': '1809', 'score': 10.144058227539062}, {'id': '1911', 'score': 9.704472541809082}, {'id': '148', 'score': 9.558494567871094}, {'id': '4951', 'score': 9.54186725616455}, {'id': '4908', 'score': 9.468552589416504}, {'id': '1805', 'score': 9.431605339050293}, {'id': '2830', 'score': 9.306427001953125}, {'id': '4653', 'score': 9.293475151062012}, {'id': '4786', 'score': 9.287068367004395}], [{'id': '2514', 'score': 11.382570266723633}, {'id': '4382', 'score': 11.293259620666504}, {'id': '5232', 'score': 11.245705604553223}, {'id': '5239', 'score': 11.1969575881958}, {'id': '5236', 'score': 11.196921348571777}, {'id': '4385', 'score': 11.187601089477539}, {'id': '4381', 'score': 10.992223739624023}, {'id': '2516', 'score': 10.979567527770996}, {'id': '2515', 'score': 10.917252540588379}, {'id': '5238', 'score': 10.848362922668457}], [{'id': '397', 'score': 13.2494478225708}, {'id': '3479', 'score': 12.918293952941895}, {'id': '3467', 'score': 12.775821685791016}, {'id': '3475', 'score': 12.7251558303833}, {'id': '3442', 'score': 12.594677925109863}, {'id': '1798', 'score': 12.585684776306152}, {'id': '3446', 'score': 12.553348541259766}, {'id': '2826', 'score': 12.453289031982422}, {'id': '3445', 'score': 12.373372077941895}, {'id': '4385', 'score': 12.292268753051758}], [{'id': '7969', 'score': 6.4176201820373535}, {'id': '2056', 'score': 6.010218143463135}, {'id': '2057', 'score': 5.947864532470703}, {'id': '4902', 'score': 5.926266670227051}, {'id': '4901', 'score': 5.9144744873046875}, {'id': '1846', 'score': 5.892131328582764}, {'id': '4134', 'score': 5.8731794357299805}, {'id': '4972', 'score': 5.742801189422607}, {'id': '4930', 'score': 5.702900409698486}, {'id': '3113', 'score': 5.700916767120361}], [{'id': '5478', 'score': 8.967581748962402}, {'id': '5479', 'score': 8.945713996887207}, {'id': '5480', 'score': 8.904520988464355}, {'id': '5477', 'score': 8.890235900878906}, {'id': '5485', 'score': 8.811232566833496}, {'id': '5010', 'score': 8.767943382263184}, {'id': '5571', 'score': 8.764847755432129}, {'id': '5579', 'score': 8.762044906616211}, {'id': '5447', 'score': 8.73855209350586}, {'id': '5562', 'score': 8.736568450927734}], [{'id': '4042', 'score': 11.024991035461426}, {'id': '4037', 'score': 10.963356018066406}, {'id': '4035', 'score': 10.814056396484375}, {'id': '4038', 'score': 10.811406135559082}, {'id': '4041', 'score': 10.752248764038086}, {'id': '4040', 'score': 10.656416893005371}, {'id': '4039', 'score': 10.499054908752441}, {'id': '4036', 'score': 9.646810531616211}, {'id': '4034', 'score': 9.436439514160156}, {'id': '4043', 'score': 9.018269538879395}], [{'id': '3003', 'score': 8.102155685424805}, {'id': '8231', 'score': 7.642331123352051}, {'id': '4683', 'score': 7.579547882080078}, {'id': '682', 'score': 7.469293594360352}, {'id': '3088', 'score': 7.338868618011475}, {'id': '268', 'score': 7.332365989685059}, {'id': '2689', 'score': 7.302603244781494}, {'id': '2800', 'score': 7.283776760101318}, {'id': '1843', 'score': 7.256181716918945}, {'id': '2447', 'score': 7.252404689788818}]]\n"
     ]
    },
    {
     "name": "stderr",
     "output_type": "stream",
     "text": [
      "\n"
     ]
    }
   ],
   "source": [
    "\n",
    "scores = retriever.retrieve(\n",
    "    queries_embeddings=queries_embeddings,\n",
    "    k=10,\n",
    "    batch_size=32\n",
    ")\n",
    "print(scores)"
   ]
  },
  {
   "cell_type": "code",
   "execution_count": null,
   "metadata": {},
   "outputs": [
    {
     "name": "stdout",
     "output_type": "stream",
     "text": [
      "1913\n",
      "أخبرنا قتيبة قال حدثنا عبثر عن برد أخي يزيد بن أبي زياد عن المسيب بن رافع قال سمعت البراء بن عازب يقول قال رسول الله صلى الله عليه وسلم من تبع جنازة حتى يصلى عليها كان له من الأجر قيراط ومن مشى مع الجنازة حتى تدفن كان له من الأجر قيراطان والقيراط مثل أحد.\n",
      "1969\n",
      "أخبرنا الحسن بن قزعة قال حدثنا مسلمة بن علقمة قال أنبأنا داود عن عامر عن أبي هريرة قال قال رسول الله صلى الله عليه وسلم من تبع جنازة فصلى عليها ثم انصرف فله قيراط من الأجر ومن تبعها فصلى عليها ثم قعد حتى يفرغ من دفنها فله قيراطان من الأجر كل واحد منهما أعظم من أحد.\n",
      "4868\n",
      "أخبرنا عبد الحميد بن محمد قال حدثنا مخلد قال حدثنا ابن جريج عن عطاء عن أيمن مولى ابن عمر عن تبيع عن كعب قال من توضأ فأحسن وضوءه ثم شهد صلاة العتمة في جماعة ثم صلى إليها أربعا مثلها يقرأ فيها ويتم ركوعها وسجودها كان له من الأجر مثل ليلة القدر.\n",
      "1968\n",
      "أخبرنا محمد بن بشار قال حدثنا محمد بن جعفر عن عوف عن محمد بن سيرين عن أبي هريرة أن رسول الله صلى الله عليه وسلم قال من تبع جنازة رجل مسلم احتسابا فصلى عليها ودفنها فله قيراطان ومن صلى عليها ثم رجع قبل أن تدفن فإنه يرجع بقيراط من الأجر.\n",
      "3115\n",
      "قال الحارث بن مسكين قراءة عليه وأنا أسمع عن ابن وهب أخبرني عبد الرحمن بن شريح عن عبد الكريم بن الحارث عن أبي عبيدة بن عقبة عن شرحبيل بن السمط عن سلمان الخير عن رسول الله صلى الله عليه وسلم قال من رابط يوما وليلة في سبيل الله كان له كأجر صيام شهر وقيامه ومن مات مرابطا أجري له مثل ذلك من الأجر وأجري عليه الرزق وأمن من الفتان.\n",
      "845\n",
      "أخبرنا إسحق بن إبراهيم قال حدثنا عبد العزيز بن محمد عن ابن طحلاء عن محصن بن علي الفهري عن عوف بن الحارث عن أبي هريرة عن رسول الله صلى الله عليه وسلم قال من توضأ فأحسن الوضوء ثم خرج عامدا إلى المسجد فوجد الناس قد صلوا كتب الله له مثل أجر من حضرها ولا ينقص ذلك من أجورهم شيئا.\n",
      "1380\n",
      "أخبرنا محمود بن خالد قال حدثني عمر بن عبد الواحد قال سمعت يحيى بن الحارث يحدث عن أبي الأشعث الصنعاني عن أوس بن أوس الثقفي عن رسول الله صلى الله عليه وسلم قال من غسل واغتسل وابتكر وغدا ودنا من الإمام وأنصت ثم لم يلغ كان له بكل خطوة كأجر سنة صيامها وقيامها.\n",
      "2491\n",
      "أخبرنا محمد بن المثنى ومحمد بن بشار قالا حدثنا محمد ابن جعفر قال حدثنا شعبة عن عمرو بن مرة قال سمعت أبا وائل يحدث عن عائشة عن النبي صلى الله عليه وسلم قال إذا تصدقت المرأة من بيت زوجها كان لها أجر وللزوج مثل ذلك وللخازن مثل ذلك ولا ينقص كل واحد منهما من أجر صاحبه شيئا للزوج بما كسب ولها بما أنفقت.\n",
      "3088\n",
      "أخبرنا عيسى بن هلال الحمصي قال حدثنا محمد بن حمير قال حدثنا معاوية بن سلام عن عكرمة بن عمار عن شداد أبي عمار عن أبي أمامة الباهلي قال جاء رجل إلى النبي صلى الله عليه وسلم فقال أرأيت رجلا غزا يلتمس الأجر والذكر ماله فقال رسول الله صلى الله عليه وسلم لا شيء له فأعادها ثلاث مرات يقول له رسول الله صلى الله عليه وسلم لا شيء له ثم قال إن الله لا يقبل من العمل إلا ما كان له خالصا وابتغي به وجهه.\n",
      "3518\n",
      "أخبرنا محمد بن المثنى ومحمد بن بشار قالا حدثنا ابن أبي عدي عن شعبة عن حصين عن الشعبي عن عروة بن أبي الجعد أنه سمع النبي صلى الله عليه وسلم يقول الخيل معقود في نواصيها الخير إلى يوم القيامة الأجر والمغنم.\n"
     ]
    }
   ],
   "source": [
    "for el in scores[1]:\n",
    "    print(el['id'])\n",
    "    print(documents[int(el['id'])])"
   ]
  },
  {
   "cell_type": "code",
   "execution_count": null,
   "metadata": {},
   "outputs": [],
   "source": []
  },
  {
   "cell_type": "code",
   "execution_count": null,
   "metadata": {},
   "outputs": [],
   "source": []
  },
  {
   "cell_type": "code",
   "execution_count": null,
   "metadata": {},
   "outputs": [],
   "source": []
  }
 ],
 "metadata": {
  "kernelspec": {
   "display_name": "kobo",
   "language": "python",
   "name": "python3"
  },
  "language_info": {
   "codemirror_mode": {
    "name": "ipython",
    "version": 3
   },
   "file_extension": ".py",
   "mimetype": "text/x-python",
   "name": "python",
   "nbconvert_exporter": "python",
   "pygments_lexer": "ipython3",
   "version": "3.11.10"
  }
 },
 "nbformat": 4,
 "nbformat_minor": 2
}
